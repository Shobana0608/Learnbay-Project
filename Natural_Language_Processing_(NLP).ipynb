{
  "nbformat": 4,
  "nbformat_minor": 0,
  "metadata": {
    "colab": {
      "provenance": [],
      "include_colab_link": true
    },
    "kernelspec": {
      "name": "python3",
      "display_name": "Python 3"
    },
    "language_info": {
      "name": "python"
    },
    "widgets": {
      "application/vnd.jupyter.widget-state+json": {
        "0a60e081aed8415bbe59fc04682a4060": {
          "model_module": "@jupyter-widgets/controls",
          "model_name": "HBoxModel",
          "model_module_version": "1.5.0",
          "state": {
            "_dom_classes": [],
            "_model_module": "@jupyter-widgets/controls",
            "_model_module_version": "1.5.0",
            "_model_name": "HBoxModel",
            "_view_count": null,
            "_view_module": "@jupyter-widgets/controls",
            "_view_module_version": "1.5.0",
            "_view_name": "HBoxView",
            "box_style": "",
            "children": [
              "IPY_MODEL_9d9b31b7489848129bbb00c636f76aa8",
              "IPY_MODEL_4b2a58a1f497454b9a88f0c0491b1e71",
              "IPY_MODEL_1c89cce8ef824268bd481541fcce783e"
            ],
            "layout": "IPY_MODEL_8c6045d493a84100b5d456a6f8c9dd05"
          }
        },
        "9d9b31b7489848129bbb00c636f76aa8": {
          "model_module": "@jupyter-widgets/controls",
          "model_name": "HTMLModel",
          "model_module_version": "1.5.0",
          "state": {
            "_dom_classes": [],
            "_model_module": "@jupyter-widgets/controls",
            "_model_module_version": "1.5.0",
            "_model_name": "HTMLModel",
            "_view_count": null,
            "_view_module": "@jupyter-widgets/controls",
            "_view_module_version": "1.5.0",
            "_view_name": "HTMLView",
            "description": "",
            "description_tooltip": null,
            "layout": "IPY_MODEL_a67750f59c094dcb9bd72ebab759cf37",
            "placeholder": "​",
            "style": "IPY_MODEL_6e916565fc6d4f1ca73a4661c4e0cef9",
            "value": "tokenizer_config.json: 100%"
          }
        },
        "4b2a58a1f497454b9a88f0c0491b1e71": {
          "model_module": "@jupyter-widgets/controls",
          "model_name": "FloatProgressModel",
          "model_module_version": "1.5.0",
          "state": {
            "_dom_classes": [],
            "_model_module": "@jupyter-widgets/controls",
            "_model_module_version": "1.5.0",
            "_model_name": "FloatProgressModel",
            "_view_count": null,
            "_view_module": "@jupyter-widgets/controls",
            "_view_module_version": "1.5.0",
            "_view_name": "ProgressView",
            "bar_style": "success",
            "description": "",
            "description_tooltip": null,
            "layout": "IPY_MODEL_0d397a9002444499a67510443964a068",
            "max": 26,
            "min": 0,
            "orientation": "horizontal",
            "style": "IPY_MODEL_75cf1ca6e5d643a29eea6355a474a679",
            "value": 26
          }
        },
        "1c89cce8ef824268bd481541fcce783e": {
          "model_module": "@jupyter-widgets/controls",
          "model_name": "HTMLModel",
          "model_module_version": "1.5.0",
          "state": {
            "_dom_classes": [],
            "_model_module": "@jupyter-widgets/controls",
            "_model_module_version": "1.5.0",
            "_model_name": "HTMLModel",
            "_view_count": null,
            "_view_module": "@jupyter-widgets/controls",
            "_view_module_version": "1.5.0",
            "_view_name": "HTMLView",
            "description": "",
            "description_tooltip": null,
            "layout": "IPY_MODEL_86ddb860a6914c5a95de3ec926ca72ba",
            "placeholder": "​",
            "style": "IPY_MODEL_c91a522394ab4cc880c48102359eb356",
            "value": " 26.0/26.0 [00:00&lt;00:00, 872B/s]"
          }
        },
        "8c6045d493a84100b5d456a6f8c9dd05": {
          "model_module": "@jupyter-widgets/base",
          "model_name": "LayoutModel",
          "model_module_version": "1.2.0",
          "state": {
            "_model_module": "@jupyter-widgets/base",
            "_model_module_version": "1.2.0",
            "_model_name": "LayoutModel",
            "_view_count": null,
            "_view_module": "@jupyter-widgets/base",
            "_view_module_version": "1.2.0",
            "_view_name": "LayoutView",
            "align_content": null,
            "align_items": null,
            "align_self": null,
            "border": null,
            "bottom": null,
            "display": null,
            "flex": null,
            "flex_flow": null,
            "grid_area": null,
            "grid_auto_columns": null,
            "grid_auto_flow": null,
            "grid_auto_rows": null,
            "grid_column": null,
            "grid_gap": null,
            "grid_row": null,
            "grid_template_areas": null,
            "grid_template_columns": null,
            "grid_template_rows": null,
            "height": null,
            "justify_content": null,
            "justify_items": null,
            "left": null,
            "margin": null,
            "max_height": null,
            "max_width": null,
            "min_height": null,
            "min_width": null,
            "object_fit": null,
            "object_position": null,
            "order": null,
            "overflow": null,
            "overflow_x": null,
            "overflow_y": null,
            "padding": null,
            "right": null,
            "top": null,
            "visibility": null,
            "width": null
          }
        },
        "a67750f59c094dcb9bd72ebab759cf37": {
          "model_module": "@jupyter-widgets/base",
          "model_name": "LayoutModel",
          "model_module_version": "1.2.0",
          "state": {
            "_model_module": "@jupyter-widgets/base",
            "_model_module_version": "1.2.0",
            "_model_name": "LayoutModel",
            "_view_count": null,
            "_view_module": "@jupyter-widgets/base",
            "_view_module_version": "1.2.0",
            "_view_name": "LayoutView",
            "align_content": null,
            "align_items": null,
            "align_self": null,
            "border": null,
            "bottom": null,
            "display": null,
            "flex": null,
            "flex_flow": null,
            "grid_area": null,
            "grid_auto_columns": null,
            "grid_auto_flow": null,
            "grid_auto_rows": null,
            "grid_column": null,
            "grid_gap": null,
            "grid_row": null,
            "grid_template_areas": null,
            "grid_template_columns": null,
            "grid_template_rows": null,
            "height": null,
            "justify_content": null,
            "justify_items": null,
            "left": null,
            "margin": null,
            "max_height": null,
            "max_width": null,
            "min_height": null,
            "min_width": null,
            "object_fit": null,
            "object_position": null,
            "order": null,
            "overflow": null,
            "overflow_x": null,
            "overflow_y": null,
            "padding": null,
            "right": null,
            "top": null,
            "visibility": null,
            "width": null
          }
        },
        "6e916565fc6d4f1ca73a4661c4e0cef9": {
          "model_module": "@jupyter-widgets/controls",
          "model_name": "DescriptionStyleModel",
          "model_module_version": "1.5.0",
          "state": {
            "_model_module": "@jupyter-widgets/controls",
            "_model_module_version": "1.5.0",
            "_model_name": "DescriptionStyleModel",
            "_view_count": null,
            "_view_module": "@jupyter-widgets/base",
            "_view_module_version": "1.2.0",
            "_view_name": "StyleView",
            "description_width": ""
          }
        },
        "0d397a9002444499a67510443964a068": {
          "model_module": "@jupyter-widgets/base",
          "model_name": "LayoutModel",
          "model_module_version": "1.2.0",
          "state": {
            "_model_module": "@jupyter-widgets/base",
            "_model_module_version": "1.2.0",
            "_model_name": "LayoutModel",
            "_view_count": null,
            "_view_module": "@jupyter-widgets/base",
            "_view_module_version": "1.2.0",
            "_view_name": "LayoutView",
            "align_content": null,
            "align_items": null,
            "align_self": null,
            "border": null,
            "bottom": null,
            "display": null,
            "flex": null,
            "flex_flow": null,
            "grid_area": null,
            "grid_auto_columns": null,
            "grid_auto_flow": null,
            "grid_auto_rows": null,
            "grid_column": null,
            "grid_gap": null,
            "grid_row": null,
            "grid_template_areas": null,
            "grid_template_columns": null,
            "grid_template_rows": null,
            "height": null,
            "justify_content": null,
            "justify_items": null,
            "left": null,
            "margin": null,
            "max_height": null,
            "max_width": null,
            "min_height": null,
            "min_width": null,
            "object_fit": null,
            "object_position": null,
            "order": null,
            "overflow": null,
            "overflow_x": null,
            "overflow_y": null,
            "padding": null,
            "right": null,
            "top": null,
            "visibility": null,
            "width": null
          }
        },
        "75cf1ca6e5d643a29eea6355a474a679": {
          "model_module": "@jupyter-widgets/controls",
          "model_name": "ProgressStyleModel",
          "model_module_version": "1.5.0",
          "state": {
            "_model_module": "@jupyter-widgets/controls",
            "_model_module_version": "1.5.0",
            "_model_name": "ProgressStyleModel",
            "_view_count": null,
            "_view_module": "@jupyter-widgets/base",
            "_view_module_version": "1.2.0",
            "_view_name": "StyleView",
            "bar_color": null,
            "description_width": ""
          }
        },
        "86ddb860a6914c5a95de3ec926ca72ba": {
          "model_module": "@jupyter-widgets/base",
          "model_name": "LayoutModel",
          "model_module_version": "1.2.0",
          "state": {
            "_model_module": "@jupyter-widgets/base",
            "_model_module_version": "1.2.0",
            "_model_name": "LayoutModel",
            "_view_count": null,
            "_view_module": "@jupyter-widgets/base",
            "_view_module_version": "1.2.0",
            "_view_name": "LayoutView",
            "align_content": null,
            "align_items": null,
            "align_self": null,
            "border": null,
            "bottom": null,
            "display": null,
            "flex": null,
            "flex_flow": null,
            "grid_area": null,
            "grid_auto_columns": null,
            "grid_auto_flow": null,
            "grid_auto_rows": null,
            "grid_column": null,
            "grid_gap": null,
            "grid_row": null,
            "grid_template_areas": null,
            "grid_template_columns": null,
            "grid_template_rows": null,
            "height": null,
            "justify_content": null,
            "justify_items": null,
            "left": null,
            "margin": null,
            "max_height": null,
            "max_width": null,
            "min_height": null,
            "min_width": null,
            "object_fit": null,
            "object_position": null,
            "order": null,
            "overflow": null,
            "overflow_x": null,
            "overflow_y": null,
            "padding": null,
            "right": null,
            "top": null,
            "visibility": null,
            "width": null
          }
        },
        "c91a522394ab4cc880c48102359eb356": {
          "model_module": "@jupyter-widgets/controls",
          "model_name": "DescriptionStyleModel",
          "model_module_version": "1.5.0",
          "state": {
            "_model_module": "@jupyter-widgets/controls",
            "_model_module_version": "1.5.0",
            "_model_name": "DescriptionStyleModel",
            "_view_count": null,
            "_view_module": "@jupyter-widgets/base",
            "_view_module_version": "1.2.0",
            "_view_name": "StyleView",
            "description_width": ""
          }
        },
        "ca76db3e9526460d8bd556178686bca8": {
          "model_module": "@jupyter-widgets/controls",
          "model_name": "HBoxModel",
          "model_module_version": "1.5.0",
          "state": {
            "_dom_classes": [],
            "_model_module": "@jupyter-widgets/controls",
            "_model_module_version": "1.5.0",
            "_model_name": "HBoxModel",
            "_view_count": null,
            "_view_module": "@jupyter-widgets/controls",
            "_view_module_version": "1.5.0",
            "_view_name": "HBoxView",
            "box_style": "",
            "children": [
              "IPY_MODEL_20e7cb648d3e4228ab71b3ede06f78bc",
              "IPY_MODEL_8f0a62a29031496fbe76eb5f5ee51436",
              "IPY_MODEL_fafadb79536049938123060dd8563edc"
            ],
            "layout": "IPY_MODEL_ce9d5e97057549e0a08927c8814c8713"
          }
        },
        "20e7cb648d3e4228ab71b3ede06f78bc": {
          "model_module": "@jupyter-widgets/controls",
          "model_name": "HTMLModel",
          "model_module_version": "1.5.0",
          "state": {
            "_dom_classes": [],
            "_model_module": "@jupyter-widgets/controls",
            "_model_module_version": "1.5.0",
            "_model_name": "HTMLModel",
            "_view_count": null,
            "_view_module": "@jupyter-widgets/controls",
            "_view_module_version": "1.5.0",
            "_view_name": "HTMLView",
            "description": "",
            "description_tooltip": null,
            "layout": "IPY_MODEL_99434dc5828d4f969d4e6774bd1fbdd7",
            "placeholder": "​",
            "style": "IPY_MODEL_5ca2b7f7f7ca455490faa0337e587042",
            "value": "vocab.json: 100%"
          }
        },
        "8f0a62a29031496fbe76eb5f5ee51436": {
          "model_module": "@jupyter-widgets/controls",
          "model_name": "FloatProgressModel",
          "model_module_version": "1.5.0",
          "state": {
            "_dom_classes": [],
            "_model_module": "@jupyter-widgets/controls",
            "_model_module_version": "1.5.0",
            "_model_name": "FloatProgressModel",
            "_view_count": null,
            "_view_module": "@jupyter-widgets/controls",
            "_view_module_version": "1.5.0",
            "_view_name": "ProgressView",
            "bar_style": "success",
            "description": "",
            "description_tooltip": null,
            "layout": "IPY_MODEL_6a56a07bcc524a15a12d9eb326f20248",
            "max": 1042301,
            "min": 0,
            "orientation": "horizontal",
            "style": "IPY_MODEL_18d1464a350e423c8f8be86b45910ce7",
            "value": 1042301
          }
        },
        "fafadb79536049938123060dd8563edc": {
          "model_module": "@jupyter-widgets/controls",
          "model_name": "HTMLModel",
          "model_module_version": "1.5.0",
          "state": {
            "_dom_classes": [],
            "_model_module": "@jupyter-widgets/controls",
            "_model_module_version": "1.5.0",
            "_model_name": "HTMLModel",
            "_view_count": null,
            "_view_module": "@jupyter-widgets/controls",
            "_view_module_version": "1.5.0",
            "_view_name": "HTMLView",
            "description": "",
            "description_tooltip": null,
            "layout": "IPY_MODEL_9b66ef02c6764e70b1a729e1e127f8e8",
            "placeholder": "​",
            "style": "IPY_MODEL_0c8831e7b9fc4879be03fda6e618ac34",
            "value": " 1.04M/1.04M [00:00&lt;00:00, 6.87MB/s]"
          }
        },
        "ce9d5e97057549e0a08927c8814c8713": {
          "model_module": "@jupyter-widgets/base",
          "model_name": "LayoutModel",
          "model_module_version": "1.2.0",
          "state": {
            "_model_module": "@jupyter-widgets/base",
            "_model_module_version": "1.2.0",
            "_model_name": "LayoutModel",
            "_view_count": null,
            "_view_module": "@jupyter-widgets/base",
            "_view_module_version": "1.2.0",
            "_view_name": "LayoutView",
            "align_content": null,
            "align_items": null,
            "align_self": null,
            "border": null,
            "bottom": null,
            "display": null,
            "flex": null,
            "flex_flow": null,
            "grid_area": null,
            "grid_auto_columns": null,
            "grid_auto_flow": null,
            "grid_auto_rows": null,
            "grid_column": null,
            "grid_gap": null,
            "grid_row": null,
            "grid_template_areas": null,
            "grid_template_columns": null,
            "grid_template_rows": null,
            "height": null,
            "justify_content": null,
            "justify_items": null,
            "left": null,
            "margin": null,
            "max_height": null,
            "max_width": null,
            "min_height": null,
            "min_width": null,
            "object_fit": null,
            "object_position": null,
            "order": null,
            "overflow": null,
            "overflow_x": null,
            "overflow_y": null,
            "padding": null,
            "right": null,
            "top": null,
            "visibility": null,
            "width": null
          }
        },
        "99434dc5828d4f969d4e6774bd1fbdd7": {
          "model_module": "@jupyter-widgets/base",
          "model_name": "LayoutModel",
          "model_module_version": "1.2.0",
          "state": {
            "_model_module": "@jupyter-widgets/base",
            "_model_module_version": "1.2.0",
            "_model_name": "LayoutModel",
            "_view_count": null,
            "_view_module": "@jupyter-widgets/base",
            "_view_module_version": "1.2.0",
            "_view_name": "LayoutView",
            "align_content": null,
            "align_items": null,
            "align_self": null,
            "border": null,
            "bottom": null,
            "display": null,
            "flex": null,
            "flex_flow": null,
            "grid_area": null,
            "grid_auto_columns": null,
            "grid_auto_flow": null,
            "grid_auto_rows": null,
            "grid_column": null,
            "grid_gap": null,
            "grid_row": null,
            "grid_template_areas": null,
            "grid_template_columns": null,
            "grid_template_rows": null,
            "height": null,
            "justify_content": null,
            "justify_items": null,
            "left": null,
            "margin": null,
            "max_height": null,
            "max_width": null,
            "min_height": null,
            "min_width": null,
            "object_fit": null,
            "object_position": null,
            "order": null,
            "overflow": null,
            "overflow_x": null,
            "overflow_y": null,
            "padding": null,
            "right": null,
            "top": null,
            "visibility": null,
            "width": null
          }
        },
        "5ca2b7f7f7ca455490faa0337e587042": {
          "model_module": "@jupyter-widgets/controls",
          "model_name": "DescriptionStyleModel",
          "model_module_version": "1.5.0",
          "state": {
            "_model_module": "@jupyter-widgets/controls",
            "_model_module_version": "1.5.0",
            "_model_name": "DescriptionStyleModel",
            "_view_count": null,
            "_view_module": "@jupyter-widgets/base",
            "_view_module_version": "1.2.0",
            "_view_name": "StyleView",
            "description_width": ""
          }
        },
        "6a56a07bcc524a15a12d9eb326f20248": {
          "model_module": "@jupyter-widgets/base",
          "model_name": "LayoutModel",
          "model_module_version": "1.2.0",
          "state": {
            "_model_module": "@jupyter-widgets/base",
            "_model_module_version": "1.2.0",
            "_model_name": "LayoutModel",
            "_view_count": null,
            "_view_module": "@jupyter-widgets/base",
            "_view_module_version": "1.2.0",
            "_view_name": "LayoutView",
            "align_content": null,
            "align_items": null,
            "align_self": null,
            "border": null,
            "bottom": null,
            "display": null,
            "flex": null,
            "flex_flow": null,
            "grid_area": null,
            "grid_auto_columns": null,
            "grid_auto_flow": null,
            "grid_auto_rows": null,
            "grid_column": null,
            "grid_gap": null,
            "grid_row": null,
            "grid_template_areas": null,
            "grid_template_columns": null,
            "grid_template_rows": null,
            "height": null,
            "justify_content": null,
            "justify_items": null,
            "left": null,
            "margin": null,
            "max_height": null,
            "max_width": null,
            "min_height": null,
            "min_width": null,
            "object_fit": null,
            "object_position": null,
            "order": null,
            "overflow": null,
            "overflow_x": null,
            "overflow_y": null,
            "padding": null,
            "right": null,
            "top": null,
            "visibility": null,
            "width": null
          }
        },
        "18d1464a350e423c8f8be86b45910ce7": {
          "model_module": "@jupyter-widgets/controls",
          "model_name": "ProgressStyleModel",
          "model_module_version": "1.5.0",
          "state": {
            "_model_module": "@jupyter-widgets/controls",
            "_model_module_version": "1.5.0",
            "_model_name": "ProgressStyleModel",
            "_view_count": null,
            "_view_module": "@jupyter-widgets/base",
            "_view_module_version": "1.2.0",
            "_view_name": "StyleView",
            "bar_color": null,
            "description_width": ""
          }
        },
        "9b66ef02c6764e70b1a729e1e127f8e8": {
          "model_module": "@jupyter-widgets/base",
          "model_name": "LayoutModel",
          "model_module_version": "1.2.0",
          "state": {
            "_model_module": "@jupyter-widgets/base",
            "_model_module_version": "1.2.0",
            "_model_name": "LayoutModel",
            "_view_count": null,
            "_view_module": "@jupyter-widgets/base",
            "_view_module_version": "1.2.0",
            "_view_name": "LayoutView",
            "align_content": null,
            "align_items": null,
            "align_self": null,
            "border": null,
            "bottom": null,
            "display": null,
            "flex": null,
            "flex_flow": null,
            "grid_area": null,
            "grid_auto_columns": null,
            "grid_auto_flow": null,
            "grid_auto_rows": null,
            "grid_column": null,
            "grid_gap": null,
            "grid_row": null,
            "grid_template_areas": null,
            "grid_template_columns": null,
            "grid_template_rows": null,
            "height": null,
            "justify_content": null,
            "justify_items": null,
            "left": null,
            "margin": null,
            "max_height": null,
            "max_width": null,
            "min_height": null,
            "min_width": null,
            "object_fit": null,
            "object_position": null,
            "order": null,
            "overflow": null,
            "overflow_x": null,
            "overflow_y": null,
            "padding": null,
            "right": null,
            "top": null,
            "visibility": null,
            "width": null
          }
        },
        "0c8831e7b9fc4879be03fda6e618ac34": {
          "model_module": "@jupyter-widgets/controls",
          "model_name": "DescriptionStyleModel",
          "model_module_version": "1.5.0",
          "state": {
            "_model_module": "@jupyter-widgets/controls",
            "_model_module_version": "1.5.0",
            "_model_name": "DescriptionStyleModel",
            "_view_count": null,
            "_view_module": "@jupyter-widgets/base",
            "_view_module_version": "1.2.0",
            "_view_name": "StyleView",
            "description_width": ""
          }
        },
        "0b4704b64b4e441e9c4291068bb53eb2": {
          "model_module": "@jupyter-widgets/controls",
          "model_name": "HBoxModel",
          "model_module_version": "1.5.0",
          "state": {
            "_dom_classes": [],
            "_model_module": "@jupyter-widgets/controls",
            "_model_module_version": "1.5.0",
            "_model_name": "HBoxModel",
            "_view_count": null,
            "_view_module": "@jupyter-widgets/controls",
            "_view_module_version": "1.5.0",
            "_view_name": "HBoxView",
            "box_style": "",
            "children": [
              "IPY_MODEL_dd6bdd3459e543f5bfce158dc206d42d",
              "IPY_MODEL_7ddd876cd6c34c5f878a27e5d5dd51ff",
              "IPY_MODEL_66dab883882b4fee8498ce54428553fe"
            ],
            "layout": "IPY_MODEL_43542b54a327407e99023a6c9e06ca15"
          }
        },
        "dd6bdd3459e543f5bfce158dc206d42d": {
          "model_module": "@jupyter-widgets/controls",
          "model_name": "HTMLModel",
          "model_module_version": "1.5.0",
          "state": {
            "_dom_classes": [],
            "_model_module": "@jupyter-widgets/controls",
            "_model_module_version": "1.5.0",
            "_model_name": "HTMLModel",
            "_view_count": null,
            "_view_module": "@jupyter-widgets/controls",
            "_view_module_version": "1.5.0",
            "_view_name": "HTMLView",
            "description": "",
            "description_tooltip": null,
            "layout": "IPY_MODEL_78b31981aabc4fafbf5fb9064bf1023c",
            "placeholder": "​",
            "style": "IPY_MODEL_a68d58006440413ea28edb664c771b43",
            "value": "merges.txt: 100%"
          }
        },
        "7ddd876cd6c34c5f878a27e5d5dd51ff": {
          "model_module": "@jupyter-widgets/controls",
          "model_name": "FloatProgressModel",
          "model_module_version": "1.5.0",
          "state": {
            "_dom_classes": [],
            "_model_module": "@jupyter-widgets/controls",
            "_model_module_version": "1.5.0",
            "_model_name": "FloatProgressModel",
            "_view_count": null,
            "_view_module": "@jupyter-widgets/controls",
            "_view_module_version": "1.5.0",
            "_view_name": "ProgressView",
            "bar_style": "success",
            "description": "",
            "description_tooltip": null,
            "layout": "IPY_MODEL_399f75cd23444a3f9498b11a903c2eee",
            "max": 456318,
            "min": 0,
            "orientation": "horizontal",
            "style": "IPY_MODEL_78bf32c205ed41f5b644538c2021cb65",
            "value": 456318
          }
        },
        "66dab883882b4fee8498ce54428553fe": {
          "model_module": "@jupyter-widgets/controls",
          "model_name": "HTMLModel",
          "model_module_version": "1.5.0",
          "state": {
            "_dom_classes": [],
            "_model_module": "@jupyter-widgets/controls",
            "_model_module_version": "1.5.0",
            "_model_name": "HTMLModel",
            "_view_count": null,
            "_view_module": "@jupyter-widgets/controls",
            "_view_module_version": "1.5.0",
            "_view_name": "HTMLView",
            "description": "",
            "description_tooltip": null,
            "layout": "IPY_MODEL_108b9ed22337437fb250137757ce0d91",
            "placeholder": "​",
            "style": "IPY_MODEL_7b3c2c25af4841738bc127967424159f",
            "value": " 456k/456k [00:00&lt;00:00, 8.17MB/s]"
          }
        },
        "43542b54a327407e99023a6c9e06ca15": {
          "model_module": "@jupyter-widgets/base",
          "model_name": "LayoutModel",
          "model_module_version": "1.2.0",
          "state": {
            "_model_module": "@jupyter-widgets/base",
            "_model_module_version": "1.2.0",
            "_model_name": "LayoutModel",
            "_view_count": null,
            "_view_module": "@jupyter-widgets/base",
            "_view_module_version": "1.2.0",
            "_view_name": "LayoutView",
            "align_content": null,
            "align_items": null,
            "align_self": null,
            "border": null,
            "bottom": null,
            "display": null,
            "flex": null,
            "flex_flow": null,
            "grid_area": null,
            "grid_auto_columns": null,
            "grid_auto_flow": null,
            "grid_auto_rows": null,
            "grid_column": null,
            "grid_gap": null,
            "grid_row": null,
            "grid_template_areas": null,
            "grid_template_columns": null,
            "grid_template_rows": null,
            "height": null,
            "justify_content": null,
            "justify_items": null,
            "left": null,
            "margin": null,
            "max_height": null,
            "max_width": null,
            "min_height": null,
            "min_width": null,
            "object_fit": null,
            "object_position": null,
            "order": null,
            "overflow": null,
            "overflow_x": null,
            "overflow_y": null,
            "padding": null,
            "right": null,
            "top": null,
            "visibility": null,
            "width": null
          }
        },
        "78b31981aabc4fafbf5fb9064bf1023c": {
          "model_module": "@jupyter-widgets/base",
          "model_name": "LayoutModel",
          "model_module_version": "1.2.0",
          "state": {
            "_model_module": "@jupyter-widgets/base",
            "_model_module_version": "1.2.0",
            "_model_name": "LayoutModel",
            "_view_count": null,
            "_view_module": "@jupyter-widgets/base",
            "_view_module_version": "1.2.0",
            "_view_name": "LayoutView",
            "align_content": null,
            "align_items": null,
            "align_self": null,
            "border": null,
            "bottom": null,
            "display": null,
            "flex": null,
            "flex_flow": null,
            "grid_area": null,
            "grid_auto_columns": null,
            "grid_auto_flow": null,
            "grid_auto_rows": null,
            "grid_column": null,
            "grid_gap": null,
            "grid_row": null,
            "grid_template_areas": null,
            "grid_template_columns": null,
            "grid_template_rows": null,
            "height": null,
            "justify_content": null,
            "justify_items": null,
            "left": null,
            "margin": null,
            "max_height": null,
            "max_width": null,
            "min_height": null,
            "min_width": null,
            "object_fit": null,
            "object_position": null,
            "order": null,
            "overflow": null,
            "overflow_x": null,
            "overflow_y": null,
            "padding": null,
            "right": null,
            "top": null,
            "visibility": null,
            "width": null
          }
        },
        "a68d58006440413ea28edb664c771b43": {
          "model_module": "@jupyter-widgets/controls",
          "model_name": "DescriptionStyleModel",
          "model_module_version": "1.5.0",
          "state": {
            "_model_module": "@jupyter-widgets/controls",
            "_model_module_version": "1.5.0",
            "_model_name": "DescriptionStyleModel",
            "_view_count": null,
            "_view_module": "@jupyter-widgets/base",
            "_view_module_version": "1.2.0",
            "_view_name": "StyleView",
            "description_width": ""
          }
        },
        "399f75cd23444a3f9498b11a903c2eee": {
          "model_module": "@jupyter-widgets/base",
          "model_name": "LayoutModel",
          "model_module_version": "1.2.0",
          "state": {
            "_model_module": "@jupyter-widgets/base",
            "_model_module_version": "1.2.0",
            "_model_name": "LayoutModel",
            "_view_count": null,
            "_view_module": "@jupyter-widgets/base",
            "_view_module_version": "1.2.0",
            "_view_name": "LayoutView",
            "align_content": null,
            "align_items": null,
            "align_self": null,
            "border": null,
            "bottom": null,
            "display": null,
            "flex": null,
            "flex_flow": null,
            "grid_area": null,
            "grid_auto_columns": null,
            "grid_auto_flow": null,
            "grid_auto_rows": null,
            "grid_column": null,
            "grid_gap": null,
            "grid_row": null,
            "grid_template_areas": null,
            "grid_template_columns": null,
            "grid_template_rows": null,
            "height": null,
            "justify_content": null,
            "justify_items": null,
            "left": null,
            "margin": null,
            "max_height": null,
            "max_width": null,
            "min_height": null,
            "min_width": null,
            "object_fit": null,
            "object_position": null,
            "order": null,
            "overflow": null,
            "overflow_x": null,
            "overflow_y": null,
            "padding": null,
            "right": null,
            "top": null,
            "visibility": null,
            "width": null
          }
        },
        "78bf32c205ed41f5b644538c2021cb65": {
          "model_module": "@jupyter-widgets/controls",
          "model_name": "ProgressStyleModel",
          "model_module_version": "1.5.0",
          "state": {
            "_model_module": "@jupyter-widgets/controls",
            "_model_module_version": "1.5.0",
            "_model_name": "ProgressStyleModel",
            "_view_count": null,
            "_view_module": "@jupyter-widgets/base",
            "_view_module_version": "1.2.0",
            "_view_name": "StyleView",
            "bar_color": null,
            "description_width": ""
          }
        },
        "108b9ed22337437fb250137757ce0d91": {
          "model_module": "@jupyter-widgets/base",
          "model_name": "LayoutModel",
          "model_module_version": "1.2.0",
          "state": {
            "_model_module": "@jupyter-widgets/base",
            "_model_module_version": "1.2.0",
            "_model_name": "LayoutModel",
            "_view_count": null,
            "_view_module": "@jupyter-widgets/base",
            "_view_module_version": "1.2.0",
            "_view_name": "LayoutView",
            "align_content": null,
            "align_items": null,
            "align_self": null,
            "border": null,
            "bottom": null,
            "display": null,
            "flex": null,
            "flex_flow": null,
            "grid_area": null,
            "grid_auto_columns": null,
            "grid_auto_flow": null,
            "grid_auto_rows": null,
            "grid_column": null,
            "grid_gap": null,
            "grid_row": null,
            "grid_template_areas": null,
            "grid_template_columns": null,
            "grid_template_rows": null,
            "height": null,
            "justify_content": null,
            "justify_items": null,
            "left": null,
            "margin": null,
            "max_height": null,
            "max_width": null,
            "min_height": null,
            "min_width": null,
            "object_fit": null,
            "object_position": null,
            "order": null,
            "overflow": null,
            "overflow_x": null,
            "overflow_y": null,
            "padding": null,
            "right": null,
            "top": null,
            "visibility": null,
            "width": null
          }
        },
        "7b3c2c25af4841738bc127967424159f": {
          "model_module": "@jupyter-widgets/controls",
          "model_name": "DescriptionStyleModel",
          "model_module_version": "1.5.0",
          "state": {
            "_model_module": "@jupyter-widgets/controls",
            "_model_module_version": "1.5.0",
            "_model_name": "DescriptionStyleModel",
            "_view_count": null,
            "_view_module": "@jupyter-widgets/base",
            "_view_module_version": "1.2.0",
            "_view_name": "StyleView",
            "description_width": ""
          }
        },
        "54e9f3986c964808a37f6388889a43c0": {
          "model_module": "@jupyter-widgets/controls",
          "model_name": "HBoxModel",
          "model_module_version": "1.5.0",
          "state": {
            "_dom_classes": [],
            "_model_module": "@jupyter-widgets/controls",
            "_model_module_version": "1.5.0",
            "_model_name": "HBoxModel",
            "_view_count": null,
            "_view_module": "@jupyter-widgets/controls",
            "_view_module_version": "1.5.0",
            "_view_name": "HBoxView",
            "box_style": "",
            "children": [
              "IPY_MODEL_d68143e56fcd446f963d482de5d28df1",
              "IPY_MODEL_2d57a4919e7940239b3346ce1001cef0",
              "IPY_MODEL_5e3f88f2640e4c6498273749a34db55f"
            ],
            "layout": "IPY_MODEL_6b955f29b3e9497a95fcca011dff73cf"
          }
        },
        "d68143e56fcd446f963d482de5d28df1": {
          "model_module": "@jupyter-widgets/controls",
          "model_name": "HTMLModel",
          "model_module_version": "1.5.0",
          "state": {
            "_dom_classes": [],
            "_model_module": "@jupyter-widgets/controls",
            "_model_module_version": "1.5.0",
            "_model_name": "HTMLModel",
            "_view_count": null,
            "_view_module": "@jupyter-widgets/controls",
            "_view_module_version": "1.5.0",
            "_view_name": "HTMLView",
            "description": "",
            "description_tooltip": null,
            "layout": "IPY_MODEL_3bf42070bc7f4bd38cbe45c5a598f3ee",
            "placeholder": "​",
            "style": "IPY_MODEL_017abf6b35c545009483e5c6a2b630ff",
            "value": "tokenizer.json: 100%"
          }
        },
        "2d57a4919e7940239b3346ce1001cef0": {
          "model_module": "@jupyter-widgets/controls",
          "model_name": "FloatProgressModel",
          "model_module_version": "1.5.0",
          "state": {
            "_dom_classes": [],
            "_model_module": "@jupyter-widgets/controls",
            "_model_module_version": "1.5.0",
            "_model_name": "FloatProgressModel",
            "_view_count": null,
            "_view_module": "@jupyter-widgets/controls",
            "_view_module_version": "1.5.0",
            "_view_name": "ProgressView",
            "bar_style": "success",
            "description": "",
            "description_tooltip": null,
            "layout": "IPY_MODEL_fe4cd756c29c4099ba76c7e14c0321ed",
            "max": 1355256,
            "min": 0,
            "orientation": "horizontal",
            "style": "IPY_MODEL_a53e290de8cf4433b97d23ec6e62a7ad",
            "value": 1355256
          }
        },
        "5e3f88f2640e4c6498273749a34db55f": {
          "model_module": "@jupyter-widgets/controls",
          "model_name": "HTMLModel",
          "model_module_version": "1.5.0",
          "state": {
            "_dom_classes": [],
            "_model_module": "@jupyter-widgets/controls",
            "_model_module_version": "1.5.0",
            "_model_name": "HTMLModel",
            "_view_count": null,
            "_view_module": "@jupyter-widgets/controls",
            "_view_module_version": "1.5.0",
            "_view_name": "HTMLView",
            "description": "",
            "description_tooltip": null,
            "layout": "IPY_MODEL_4daeee145b5c493fb3c5c2b561fcd0af",
            "placeholder": "​",
            "style": "IPY_MODEL_9778163b5bfd48939f6fe52fe888673c",
            "value": " 1.36M/1.36M [00:00&lt;00:00, 16.1MB/s]"
          }
        },
        "6b955f29b3e9497a95fcca011dff73cf": {
          "model_module": "@jupyter-widgets/base",
          "model_name": "LayoutModel",
          "model_module_version": "1.2.0",
          "state": {
            "_model_module": "@jupyter-widgets/base",
            "_model_module_version": "1.2.0",
            "_model_name": "LayoutModel",
            "_view_count": null,
            "_view_module": "@jupyter-widgets/base",
            "_view_module_version": "1.2.0",
            "_view_name": "LayoutView",
            "align_content": null,
            "align_items": null,
            "align_self": null,
            "border": null,
            "bottom": null,
            "display": null,
            "flex": null,
            "flex_flow": null,
            "grid_area": null,
            "grid_auto_columns": null,
            "grid_auto_flow": null,
            "grid_auto_rows": null,
            "grid_column": null,
            "grid_gap": null,
            "grid_row": null,
            "grid_template_areas": null,
            "grid_template_columns": null,
            "grid_template_rows": null,
            "height": null,
            "justify_content": null,
            "justify_items": null,
            "left": null,
            "margin": null,
            "max_height": null,
            "max_width": null,
            "min_height": null,
            "min_width": null,
            "object_fit": null,
            "object_position": null,
            "order": null,
            "overflow": null,
            "overflow_x": null,
            "overflow_y": null,
            "padding": null,
            "right": null,
            "top": null,
            "visibility": null,
            "width": null
          }
        },
        "3bf42070bc7f4bd38cbe45c5a598f3ee": {
          "model_module": "@jupyter-widgets/base",
          "model_name": "LayoutModel",
          "model_module_version": "1.2.0",
          "state": {
            "_model_module": "@jupyter-widgets/base",
            "_model_module_version": "1.2.0",
            "_model_name": "LayoutModel",
            "_view_count": null,
            "_view_module": "@jupyter-widgets/base",
            "_view_module_version": "1.2.0",
            "_view_name": "LayoutView",
            "align_content": null,
            "align_items": null,
            "align_self": null,
            "border": null,
            "bottom": null,
            "display": null,
            "flex": null,
            "flex_flow": null,
            "grid_area": null,
            "grid_auto_columns": null,
            "grid_auto_flow": null,
            "grid_auto_rows": null,
            "grid_column": null,
            "grid_gap": null,
            "grid_row": null,
            "grid_template_areas": null,
            "grid_template_columns": null,
            "grid_template_rows": null,
            "height": null,
            "justify_content": null,
            "justify_items": null,
            "left": null,
            "margin": null,
            "max_height": null,
            "max_width": null,
            "min_height": null,
            "min_width": null,
            "object_fit": null,
            "object_position": null,
            "order": null,
            "overflow": null,
            "overflow_x": null,
            "overflow_y": null,
            "padding": null,
            "right": null,
            "top": null,
            "visibility": null,
            "width": null
          }
        },
        "017abf6b35c545009483e5c6a2b630ff": {
          "model_module": "@jupyter-widgets/controls",
          "model_name": "DescriptionStyleModel",
          "model_module_version": "1.5.0",
          "state": {
            "_model_module": "@jupyter-widgets/controls",
            "_model_module_version": "1.5.0",
            "_model_name": "DescriptionStyleModel",
            "_view_count": null,
            "_view_module": "@jupyter-widgets/base",
            "_view_module_version": "1.2.0",
            "_view_name": "StyleView",
            "description_width": ""
          }
        },
        "fe4cd756c29c4099ba76c7e14c0321ed": {
          "model_module": "@jupyter-widgets/base",
          "model_name": "LayoutModel",
          "model_module_version": "1.2.0",
          "state": {
            "_model_module": "@jupyter-widgets/base",
            "_model_module_version": "1.2.0",
            "_model_name": "LayoutModel",
            "_view_count": null,
            "_view_module": "@jupyter-widgets/base",
            "_view_module_version": "1.2.0",
            "_view_name": "LayoutView",
            "align_content": null,
            "align_items": null,
            "align_self": null,
            "border": null,
            "bottom": null,
            "display": null,
            "flex": null,
            "flex_flow": null,
            "grid_area": null,
            "grid_auto_columns": null,
            "grid_auto_flow": null,
            "grid_auto_rows": null,
            "grid_column": null,
            "grid_gap": null,
            "grid_row": null,
            "grid_template_areas": null,
            "grid_template_columns": null,
            "grid_template_rows": null,
            "height": null,
            "justify_content": null,
            "justify_items": null,
            "left": null,
            "margin": null,
            "max_height": null,
            "max_width": null,
            "min_height": null,
            "min_width": null,
            "object_fit": null,
            "object_position": null,
            "order": null,
            "overflow": null,
            "overflow_x": null,
            "overflow_y": null,
            "padding": null,
            "right": null,
            "top": null,
            "visibility": null,
            "width": null
          }
        },
        "a53e290de8cf4433b97d23ec6e62a7ad": {
          "model_module": "@jupyter-widgets/controls",
          "model_name": "ProgressStyleModel",
          "model_module_version": "1.5.0",
          "state": {
            "_model_module": "@jupyter-widgets/controls",
            "_model_module_version": "1.5.0",
            "_model_name": "ProgressStyleModel",
            "_view_count": null,
            "_view_module": "@jupyter-widgets/base",
            "_view_module_version": "1.2.0",
            "_view_name": "StyleView",
            "bar_color": null,
            "description_width": ""
          }
        },
        "4daeee145b5c493fb3c5c2b561fcd0af": {
          "model_module": "@jupyter-widgets/base",
          "model_name": "LayoutModel",
          "model_module_version": "1.2.0",
          "state": {
            "_model_module": "@jupyter-widgets/base",
            "_model_module_version": "1.2.0",
            "_model_name": "LayoutModel",
            "_view_count": null,
            "_view_module": "@jupyter-widgets/base",
            "_view_module_version": "1.2.0",
            "_view_name": "LayoutView",
            "align_content": null,
            "align_items": null,
            "align_self": null,
            "border": null,
            "bottom": null,
            "display": null,
            "flex": null,
            "flex_flow": null,
            "grid_area": null,
            "grid_auto_columns": null,
            "grid_auto_flow": null,
            "grid_auto_rows": null,
            "grid_column": null,
            "grid_gap": null,
            "grid_row": null,
            "grid_template_areas": null,
            "grid_template_columns": null,
            "grid_template_rows": null,
            "height": null,
            "justify_content": null,
            "justify_items": null,
            "left": null,
            "margin": null,
            "max_height": null,
            "max_width": null,
            "min_height": null,
            "min_width": null,
            "object_fit": null,
            "object_position": null,
            "order": null,
            "overflow": null,
            "overflow_x": null,
            "overflow_y": null,
            "padding": null,
            "right": null,
            "top": null,
            "visibility": null,
            "width": null
          }
        },
        "9778163b5bfd48939f6fe52fe888673c": {
          "model_module": "@jupyter-widgets/controls",
          "model_name": "DescriptionStyleModel",
          "model_module_version": "1.5.0",
          "state": {
            "_model_module": "@jupyter-widgets/controls",
            "_model_module_version": "1.5.0",
            "_model_name": "DescriptionStyleModel",
            "_view_count": null,
            "_view_module": "@jupyter-widgets/base",
            "_view_module_version": "1.2.0",
            "_view_name": "StyleView",
            "description_width": ""
          }
        },
        "db8c2fed82204d7a8876979b022af8f1": {
          "model_module": "@jupyter-widgets/controls",
          "model_name": "HBoxModel",
          "model_module_version": "1.5.0",
          "state": {
            "_dom_classes": [],
            "_model_module": "@jupyter-widgets/controls",
            "_model_module_version": "1.5.0",
            "_model_name": "HBoxModel",
            "_view_count": null,
            "_view_module": "@jupyter-widgets/controls",
            "_view_module_version": "1.5.0",
            "_view_name": "HBoxView",
            "box_style": "",
            "children": [
              "IPY_MODEL_19b50eec10254f8587207c9525a6eb77",
              "IPY_MODEL_73d4a0f4b2aa40948bb9d79e60a0fe50",
              "IPY_MODEL_bfd3ab4ffb8943729d47ead7bf83a5f4"
            ],
            "layout": "IPY_MODEL_14d0e7041bc2449eab61b6b74999f768"
          }
        },
        "19b50eec10254f8587207c9525a6eb77": {
          "model_module": "@jupyter-widgets/controls",
          "model_name": "HTMLModel",
          "model_module_version": "1.5.0",
          "state": {
            "_dom_classes": [],
            "_model_module": "@jupyter-widgets/controls",
            "_model_module_version": "1.5.0",
            "_model_name": "HTMLModel",
            "_view_count": null,
            "_view_module": "@jupyter-widgets/controls",
            "_view_module_version": "1.5.0",
            "_view_name": "HTMLView",
            "description": "",
            "description_tooltip": null,
            "layout": "IPY_MODEL_bcf649b07bba411d8ca9fb81a2a1f4f3",
            "placeholder": "​",
            "style": "IPY_MODEL_b998c1b9e1ee4d7c928d73c9630b970c",
            "value": "config.json: 100%"
          }
        },
        "73d4a0f4b2aa40948bb9d79e60a0fe50": {
          "model_module": "@jupyter-widgets/controls",
          "model_name": "FloatProgressModel",
          "model_module_version": "1.5.0",
          "state": {
            "_dom_classes": [],
            "_model_module": "@jupyter-widgets/controls",
            "_model_module_version": "1.5.0",
            "_model_name": "FloatProgressModel",
            "_view_count": null,
            "_view_module": "@jupyter-widgets/controls",
            "_view_module_version": "1.5.0",
            "_view_name": "ProgressView",
            "bar_style": "success",
            "description": "",
            "description_tooltip": null,
            "layout": "IPY_MODEL_03d1583b5d5f4963adacb26036af1f85",
            "max": 665,
            "min": 0,
            "orientation": "horizontal",
            "style": "IPY_MODEL_1d49f5bb9d364e8b8fa2ffce66d70729",
            "value": 665
          }
        },
        "bfd3ab4ffb8943729d47ead7bf83a5f4": {
          "model_module": "@jupyter-widgets/controls",
          "model_name": "HTMLModel",
          "model_module_version": "1.5.0",
          "state": {
            "_dom_classes": [],
            "_model_module": "@jupyter-widgets/controls",
            "_model_module_version": "1.5.0",
            "_model_name": "HTMLModel",
            "_view_count": null,
            "_view_module": "@jupyter-widgets/controls",
            "_view_module_version": "1.5.0",
            "_view_name": "HTMLView",
            "description": "",
            "description_tooltip": null,
            "layout": "IPY_MODEL_718f287385d84308b4fb6a3d6d1b1981",
            "placeholder": "​",
            "style": "IPY_MODEL_02cd38b870074ec690b61f209fdbd65f",
            "value": " 665/665 [00:00&lt;00:00, 8.82kB/s]"
          }
        },
        "14d0e7041bc2449eab61b6b74999f768": {
          "model_module": "@jupyter-widgets/base",
          "model_name": "LayoutModel",
          "model_module_version": "1.2.0",
          "state": {
            "_model_module": "@jupyter-widgets/base",
            "_model_module_version": "1.2.0",
            "_model_name": "LayoutModel",
            "_view_count": null,
            "_view_module": "@jupyter-widgets/base",
            "_view_module_version": "1.2.0",
            "_view_name": "LayoutView",
            "align_content": null,
            "align_items": null,
            "align_self": null,
            "border": null,
            "bottom": null,
            "display": null,
            "flex": null,
            "flex_flow": null,
            "grid_area": null,
            "grid_auto_columns": null,
            "grid_auto_flow": null,
            "grid_auto_rows": null,
            "grid_column": null,
            "grid_gap": null,
            "grid_row": null,
            "grid_template_areas": null,
            "grid_template_columns": null,
            "grid_template_rows": null,
            "height": null,
            "justify_content": null,
            "justify_items": null,
            "left": null,
            "margin": null,
            "max_height": null,
            "max_width": null,
            "min_height": null,
            "min_width": null,
            "object_fit": null,
            "object_position": null,
            "order": null,
            "overflow": null,
            "overflow_x": null,
            "overflow_y": null,
            "padding": null,
            "right": null,
            "top": null,
            "visibility": null,
            "width": null
          }
        },
        "bcf649b07bba411d8ca9fb81a2a1f4f3": {
          "model_module": "@jupyter-widgets/base",
          "model_name": "LayoutModel",
          "model_module_version": "1.2.0",
          "state": {
            "_model_module": "@jupyter-widgets/base",
            "_model_module_version": "1.2.0",
            "_model_name": "LayoutModel",
            "_view_count": null,
            "_view_module": "@jupyter-widgets/base",
            "_view_module_version": "1.2.0",
            "_view_name": "LayoutView",
            "align_content": null,
            "align_items": null,
            "align_self": null,
            "border": null,
            "bottom": null,
            "display": null,
            "flex": null,
            "flex_flow": null,
            "grid_area": null,
            "grid_auto_columns": null,
            "grid_auto_flow": null,
            "grid_auto_rows": null,
            "grid_column": null,
            "grid_gap": null,
            "grid_row": null,
            "grid_template_areas": null,
            "grid_template_columns": null,
            "grid_template_rows": null,
            "height": null,
            "justify_content": null,
            "justify_items": null,
            "left": null,
            "margin": null,
            "max_height": null,
            "max_width": null,
            "min_height": null,
            "min_width": null,
            "object_fit": null,
            "object_position": null,
            "order": null,
            "overflow": null,
            "overflow_x": null,
            "overflow_y": null,
            "padding": null,
            "right": null,
            "top": null,
            "visibility": null,
            "width": null
          }
        },
        "b998c1b9e1ee4d7c928d73c9630b970c": {
          "model_module": "@jupyter-widgets/controls",
          "model_name": "DescriptionStyleModel",
          "model_module_version": "1.5.0",
          "state": {
            "_model_module": "@jupyter-widgets/controls",
            "_model_module_version": "1.5.0",
            "_model_name": "DescriptionStyleModel",
            "_view_count": null,
            "_view_module": "@jupyter-widgets/base",
            "_view_module_version": "1.2.0",
            "_view_name": "StyleView",
            "description_width": ""
          }
        },
        "03d1583b5d5f4963adacb26036af1f85": {
          "model_module": "@jupyter-widgets/base",
          "model_name": "LayoutModel",
          "model_module_version": "1.2.0",
          "state": {
            "_model_module": "@jupyter-widgets/base",
            "_model_module_version": "1.2.0",
            "_model_name": "LayoutModel",
            "_view_count": null,
            "_view_module": "@jupyter-widgets/base",
            "_view_module_version": "1.2.0",
            "_view_name": "LayoutView",
            "align_content": null,
            "align_items": null,
            "align_self": null,
            "border": null,
            "bottom": null,
            "display": null,
            "flex": null,
            "flex_flow": null,
            "grid_area": null,
            "grid_auto_columns": null,
            "grid_auto_flow": null,
            "grid_auto_rows": null,
            "grid_column": null,
            "grid_gap": null,
            "grid_row": null,
            "grid_template_areas": null,
            "grid_template_columns": null,
            "grid_template_rows": null,
            "height": null,
            "justify_content": null,
            "justify_items": null,
            "left": null,
            "margin": null,
            "max_height": null,
            "max_width": null,
            "min_height": null,
            "min_width": null,
            "object_fit": null,
            "object_position": null,
            "order": null,
            "overflow": null,
            "overflow_x": null,
            "overflow_y": null,
            "padding": null,
            "right": null,
            "top": null,
            "visibility": null,
            "width": null
          }
        },
        "1d49f5bb9d364e8b8fa2ffce66d70729": {
          "model_module": "@jupyter-widgets/controls",
          "model_name": "ProgressStyleModel",
          "model_module_version": "1.5.0",
          "state": {
            "_model_module": "@jupyter-widgets/controls",
            "_model_module_version": "1.5.0",
            "_model_name": "ProgressStyleModel",
            "_view_count": null,
            "_view_module": "@jupyter-widgets/base",
            "_view_module_version": "1.2.0",
            "_view_name": "StyleView",
            "bar_color": null,
            "description_width": ""
          }
        },
        "718f287385d84308b4fb6a3d6d1b1981": {
          "model_module": "@jupyter-widgets/base",
          "model_name": "LayoutModel",
          "model_module_version": "1.2.0",
          "state": {
            "_model_module": "@jupyter-widgets/base",
            "_model_module_version": "1.2.0",
            "_model_name": "LayoutModel",
            "_view_count": null,
            "_view_module": "@jupyter-widgets/base",
            "_view_module_version": "1.2.0",
            "_view_name": "LayoutView",
            "align_content": null,
            "align_items": null,
            "align_self": null,
            "border": null,
            "bottom": null,
            "display": null,
            "flex": null,
            "flex_flow": null,
            "grid_area": null,
            "grid_auto_columns": null,
            "grid_auto_flow": null,
            "grid_auto_rows": null,
            "grid_column": null,
            "grid_gap": null,
            "grid_row": null,
            "grid_template_areas": null,
            "grid_template_columns": null,
            "grid_template_rows": null,
            "height": null,
            "justify_content": null,
            "justify_items": null,
            "left": null,
            "margin": null,
            "max_height": null,
            "max_width": null,
            "min_height": null,
            "min_width": null,
            "object_fit": null,
            "object_position": null,
            "order": null,
            "overflow": null,
            "overflow_x": null,
            "overflow_y": null,
            "padding": null,
            "right": null,
            "top": null,
            "visibility": null,
            "width": null
          }
        },
        "02cd38b870074ec690b61f209fdbd65f": {
          "model_module": "@jupyter-widgets/controls",
          "model_name": "DescriptionStyleModel",
          "model_module_version": "1.5.0",
          "state": {
            "_model_module": "@jupyter-widgets/controls",
            "_model_module_version": "1.5.0",
            "_model_name": "DescriptionStyleModel",
            "_view_count": null,
            "_view_module": "@jupyter-widgets/base",
            "_view_module_version": "1.2.0",
            "_view_name": "StyleView",
            "description_width": ""
          }
        }
      }
    }
  },
  "cells": [
    {
      "cell_type": "markdown",
      "metadata": {
        "id": "view-in-github",
        "colab_type": "text"
      },
      "source": [
        "<a href=\"https://colab.research.google.com/github/Shobana0608/Learnbay-Project/blob/main/Natural_Language_Processing_(NLP).ipynb\" target=\"_parent\"><img src=\"https://colab.research.google.com/assets/colab-badge.svg\" alt=\"Open In Colab\"/></a>"
      ]
    },
    {
      "cell_type": "markdown",
      "source": [
        "# **Natural Language Processing (NLP) Text Preprocessing Pipeline**"
      ],
      "metadata": {
        "id": "7hNDcCrNETg-"
      }
    },
    {
      "cell_type": "markdown",
      "source": [
        "**Table of Contents**\n",
        "\n",
        "*   Introduction\n",
        "*   Environment Setup\n",
        "*   Tokenization\n",
        "*   Stop Word Removal\n",
        "*   Part-of-Speech (POS) Tagging\n",
        "*   Lemmatization and Stemming\n",
        "*   Named Entity Recognition (NER)\n",
        "*   Complete Pipeline Demonstration\n",
        "*   Practical Applications\n",
        "*   Best Practices and Summary\n",
        "\n",
        "\n",
        "\n",
        "\n",
        "\n",
        "\n",
        "\n",
        "\n",
        "\n",
        "\n"
      ],
      "metadata": {
        "id": "-PJTWRAoEXTO"
      }
    },
    {
      "cell_type": "markdown",
      "source": [
        "# **Introduction**\n",
        "\n",
        "This comprehensive guide explores essential text preprocessing techniques in Natural Language Processing (NLP) in the correct order of implementation. These fundamental concepts form the backbone of most NLP applications and are crucial for preparing text data for machine learning models."
      ],
      "metadata": {
        "id": "0TCCfYcnFSj4"
      }
    },
    {
      "cell_type": "markdown",
      "source": [
        "**Prerequisites**\n",
        "\n",
        "Basic understanding of Python programming\n",
        "\n",
        "Familiarity with Jupyter notebooks\n",
        "\n",
        "Introductory knowledge of Natural Language Processing (NLP)\n",
        "\n",
        "Python 3.x installed and configured\n",
        "pip (Python package manager) for installing required libraries"
      ],
      "metadata": {
        "id": "7Rgv4c1gFW3R"
      }
    },
    {
      "cell_type": "markdown",
      "source": [
        "**Why Text Preprocessing Matters**\n",
        "Text preprocessing is crucial because:\n",
        "\n",
        "Standardization: Converts text to a consistent format\n",
        "\n",
        "Noise Reduction: Removes irrelevant information\n",
        "\n",
        "Feature Extraction: Identifies meaningful components\n",
        "\n",
        "Model Performance: Improves accuracy of downstream tasks\n",
        "\n",
        "Computational Efficiency: Reduces processing overhead"
      ],
      "metadata": {
        "id": "4LKOCS1KFhUk"
      }
    },
    {
      "cell_type": "markdown",
      "source": [
        "# **Environment Setup**\n",
        "\n",
        "**Library Installation**"
      ],
      "metadata": {
        "id": "MhxUFRGmGBO1"
      }
    },
    {
      "cell_type": "markdown",
      "source": [
        "# **Required Libraries Installation:**"
      ],
      "metadata": {
        "id": "LPo1dAvKGQH5"
      }
    },
    {
      "cell_type": "code",
      "source": [
        "# Core NLP libraries\n",
        "!pip install nltk\n",
        "!pip install spacy\n",
        "!python -m spacy download en_core_web_sm\n",
        "!pip install  textblob\n",
        "\n",
        "# Data manipulation and visualization\n",
        "!pip install pandas\n",
        "!pip install matplotlib\n",
        "!pip install seaborn\n",
        "\n",
        "# Modern transformer-based tools\n",
        "!pip install transformers\n",
        "!pip install huggingface_hub"
      ],
      "metadata": {
        "colab": {
          "base_uri": "https://localhost:8080/"
        },
        "id": "LvigXH33GTLj",
        "outputId": "34703307-8cea-4a49-dc9c-66cb9281526e"
      },
      "execution_count": 1,
      "outputs": [
        {
          "output_type": "stream",
          "name": "stdout",
          "text": [
            "Requirement already satisfied: nltk in /usr/local/lib/python3.12/dist-packages (3.9.1)\n",
            "Requirement already satisfied: click in /usr/local/lib/python3.12/dist-packages (from nltk) (8.2.1)\n",
            "Requirement already satisfied: joblib in /usr/local/lib/python3.12/dist-packages (from nltk) (1.5.2)\n",
            "Requirement already satisfied: regex>=2021.8.3 in /usr/local/lib/python3.12/dist-packages (from nltk) (2024.11.6)\n",
            "Requirement already satisfied: tqdm in /usr/local/lib/python3.12/dist-packages (from nltk) (4.67.1)\n",
            "Requirement already satisfied: spacy in /usr/local/lib/python3.12/dist-packages (3.8.7)\n",
            "Requirement already satisfied: spacy-legacy<3.1.0,>=3.0.11 in /usr/local/lib/python3.12/dist-packages (from spacy) (3.0.12)\n",
            "Requirement already satisfied: spacy-loggers<2.0.0,>=1.0.0 in /usr/local/lib/python3.12/dist-packages (from spacy) (1.0.5)\n",
            "Requirement already satisfied: murmurhash<1.1.0,>=0.28.0 in /usr/local/lib/python3.12/dist-packages (from spacy) (1.0.13)\n",
            "Requirement already satisfied: cymem<2.1.0,>=2.0.2 in /usr/local/lib/python3.12/dist-packages (from spacy) (2.0.11)\n",
            "Requirement already satisfied: preshed<3.1.0,>=3.0.2 in /usr/local/lib/python3.12/dist-packages (from spacy) (3.0.10)\n",
            "Requirement already satisfied: thinc<8.4.0,>=8.3.4 in /usr/local/lib/python3.12/dist-packages (from spacy) (8.3.6)\n",
            "Requirement already satisfied: wasabi<1.2.0,>=0.9.1 in /usr/local/lib/python3.12/dist-packages (from spacy) (1.1.3)\n",
            "Requirement already satisfied: srsly<3.0.0,>=2.4.3 in /usr/local/lib/python3.12/dist-packages (from spacy) (2.5.1)\n",
            "Requirement already satisfied: catalogue<2.1.0,>=2.0.6 in /usr/local/lib/python3.12/dist-packages (from spacy) (2.0.10)\n",
            "Requirement already satisfied: weasel<0.5.0,>=0.1.0 in /usr/local/lib/python3.12/dist-packages (from spacy) (0.4.1)\n",
            "Requirement already satisfied: typer<1.0.0,>=0.3.0 in /usr/local/lib/python3.12/dist-packages (from spacy) (0.17.4)\n",
            "Requirement already satisfied: tqdm<5.0.0,>=4.38.0 in /usr/local/lib/python3.12/dist-packages (from spacy) (4.67.1)\n",
            "Requirement already satisfied: numpy>=1.19.0 in /usr/local/lib/python3.12/dist-packages (from spacy) (2.0.2)\n",
            "Requirement already satisfied: requests<3.0.0,>=2.13.0 in /usr/local/lib/python3.12/dist-packages (from spacy) (2.32.4)\n",
            "Requirement already satisfied: pydantic!=1.8,!=1.8.1,<3.0.0,>=1.7.4 in /usr/local/lib/python3.12/dist-packages (from spacy) (2.11.7)\n",
            "Requirement already satisfied: jinja2 in /usr/local/lib/python3.12/dist-packages (from spacy) (3.1.6)\n",
            "Requirement already satisfied: setuptools in /usr/local/lib/python3.12/dist-packages (from spacy) (75.2.0)\n",
            "Requirement already satisfied: packaging>=20.0 in /usr/local/lib/python3.12/dist-packages (from spacy) (25.0)\n",
            "Requirement already satisfied: langcodes<4.0.0,>=3.2.0 in /usr/local/lib/python3.12/dist-packages (from spacy) (3.5.0)\n",
            "Requirement already satisfied: language-data>=1.2 in /usr/local/lib/python3.12/dist-packages (from langcodes<4.0.0,>=3.2.0->spacy) (1.3.0)\n",
            "Requirement already satisfied: annotated-types>=0.6.0 in /usr/local/lib/python3.12/dist-packages (from pydantic!=1.8,!=1.8.1,<3.0.0,>=1.7.4->spacy) (0.7.0)\n",
            "Requirement already satisfied: pydantic-core==2.33.2 in /usr/local/lib/python3.12/dist-packages (from pydantic!=1.8,!=1.8.1,<3.0.0,>=1.7.4->spacy) (2.33.2)\n",
            "Requirement already satisfied: typing-extensions>=4.12.2 in /usr/local/lib/python3.12/dist-packages (from pydantic!=1.8,!=1.8.1,<3.0.0,>=1.7.4->spacy) (4.15.0)\n",
            "Requirement already satisfied: typing-inspection>=0.4.0 in /usr/local/lib/python3.12/dist-packages (from pydantic!=1.8,!=1.8.1,<3.0.0,>=1.7.4->spacy) (0.4.1)\n",
            "Requirement already satisfied: charset_normalizer<4,>=2 in /usr/local/lib/python3.12/dist-packages (from requests<3.0.0,>=2.13.0->spacy) (3.4.3)\n",
            "Requirement already satisfied: idna<4,>=2.5 in /usr/local/lib/python3.12/dist-packages (from requests<3.0.0,>=2.13.0->spacy) (3.10)\n",
            "Requirement already satisfied: urllib3<3,>=1.21.1 in /usr/local/lib/python3.12/dist-packages (from requests<3.0.0,>=2.13.0->spacy) (2.5.0)\n",
            "Requirement already satisfied: certifi>=2017.4.17 in /usr/local/lib/python3.12/dist-packages (from requests<3.0.0,>=2.13.0->spacy) (2025.8.3)\n",
            "Requirement already satisfied: blis<1.4.0,>=1.3.0 in /usr/local/lib/python3.12/dist-packages (from thinc<8.4.0,>=8.3.4->spacy) (1.3.0)\n",
            "Requirement already satisfied: confection<1.0.0,>=0.0.1 in /usr/local/lib/python3.12/dist-packages (from thinc<8.4.0,>=8.3.4->spacy) (0.1.5)\n",
            "Requirement already satisfied: click>=8.0.0 in /usr/local/lib/python3.12/dist-packages (from typer<1.0.0,>=0.3.0->spacy) (8.2.1)\n",
            "Requirement already satisfied: shellingham>=1.3.0 in /usr/local/lib/python3.12/dist-packages (from typer<1.0.0,>=0.3.0->spacy) (1.5.4)\n",
            "Requirement already satisfied: rich>=10.11.0 in /usr/local/lib/python3.12/dist-packages (from typer<1.0.0,>=0.3.0->spacy) (13.9.4)\n",
            "Requirement already satisfied: cloudpathlib<1.0.0,>=0.7.0 in /usr/local/lib/python3.12/dist-packages (from weasel<0.5.0,>=0.1.0->spacy) (0.22.0)\n",
            "Requirement already satisfied: smart-open<8.0.0,>=5.2.1 in /usr/local/lib/python3.12/dist-packages (from weasel<0.5.0,>=0.1.0->spacy) (7.3.1)\n",
            "Requirement already satisfied: MarkupSafe>=2.0 in /usr/local/lib/python3.12/dist-packages (from jinja2->spacy) (3.0.2)\n",
            "Requirement already satisfied: marisa-trie>=1.1.0 in /usr/local/lib/python3.12/dist-packages (from language-data>=1.2->langcodes<4.0.0,>=3.2.0->spacy) (1.3.1)\n",
            "Requirement already satisfied: markdown-it-py>=2.2.0 in /usr/local/lib/python3.12/dist-packages (from rich>=10.11.0->typer<1.0.0,>=0.3.0->spacy) (4.0.0)\n",
            "Requirement already satisfied: pygments<3.0.0,>=2.13.0 in /usr/local/lib/python3.12/dist-packages (from rich>=10.11.0->typer<1.0.0,>=0.3.0->spacy) (2.19.2)\n",
            "Requirement already satisfied: wrapt in /usr/local/lib/python3.12/dist-packages (from smart-open<8.0.0,>=5.2.1->weasel<0.5.0,>=0.1.0->spacy) (1.17.3)\n",
            "Requirement already satisfied: mdurl~=0.1 in /usr/local/lib/python3.12/dist-packages (from markdown-it-py>=2.2.0->rich>=10.11.0->typer<1.0.0,>=0.3.0->spacy) (0.1.2)\n",
            "Collecting en-core-web-sm==3.8.0\n",
            "  Downloading https://github.com/explosion/spacy-models/releases/download/en_core_web_sm-3.8.0/en_core_web_sm-3.8.0-py3-none-any.whl (12.8 MB)\n",
            "\u001b[2K     \u001b[90m━━━━━━━━━━━━━━━━━━━━━━━━━━━━━━━━━━━━━━━━\u001b[0m \u001b[32m12.8/12.8 MB\u001b[0m \u001b[31m69.0 MB/s\u001b[0m eta \u001b[36m0:00:00\u001b[0m\n",
            "\u001b[?25h\u001b[38;5;2m✔ Download and installation successful\u001b[0m\n",
            "You can now load the package via spacy.load('en_core_web_sm')\n",
            "\u001b[38;5;3m⚠ Restart to reload dependencies\u001b[0m\n",
            "If you are in a Jupyter or Colab notebook, you may need to restart Python in\n",
            "order to load all the package's dependencies. You can do this by selecting the\n",
            "'Restart kernel' or 'Restart runtime' option.\n",
            "Requirement already satisfied: textblob in /usr/local/lib/python3.12/dist-packages (0.19.0)\n",
            "Requirement already satisfied: nltk>=3.9 in /usr/local/lib/python3.12/dist-packages (from textblob) (3.9.1)\n",
            "Requirement already satisfied: click in /usr/local/lib/python3.12/dist-packages (from nltk>=3.9->textblob) (8.2.1)\n",
            "Requirement already satisfied: joblib in /usr/local/lib/python3.12/dist-packages (from nltk>=3.9->textblob) (1.5.2)\n",
            "Requirement already satisfied: regex>=2021.8.3 in /usr/local/lib/python3.12/dist-packages (from nltk>=3.9->textblob) (2024.11.6)\n",
            "Requirement already satisfied: tqdm in /usr/local/lib/python3.12/dist-packages (from nltk>=3.9->textblob) (4.67.1)\n",
            "Requirement already satisfied: pandas in /usr/local/lib/python3.12/dist-packages (2.2.2)\n",
            "Requirement already satisfied: numpy>=1.26.0 in /usr/local/lib/python3.12/dist-packages (from pandas) (2.0.2)\n",
            "Requirement already satisfied: python-dateutil>=2.8.2 in /usr/local/lib/python3.12/dist-packages (from pandas) (2.9.0.post0)\n",
            "Requirement already satisfied: pytz>=2020.1 in /usr/local/lib/python3.12/dist-packages (from pandas) (2025.2)\n",
            "Requirement already satisfied: tzdata>=2022.7 in /usr/local/lib/python3.12/dist-packages (from pandas) (2025.2)\n",
            "Requirement already satisfied: six>=1.5 in /usr/local/lib/python3.12/dist-packages (from python-dateutil>=2.8.2->pandas) (1.17.0)\n",
            "Requirement already satisfied: matplotlib in /usr/local/lib/python3.12/dist-packages (3.10.0)\n",
            "Requirement already satisfied: contourpy>=1.0.1 in /usr/local/lib/python3.12/dist-packages (from matplotlib) (1.3.3)\n",
            "Requirement already satisfied: cycler>=0.10 in /usr/local/lib/python3.12/dist-packages (from matplotlib) (0.12.1)\n",
            "Requirement already satisfied: fonttools>=4.22.0 in /usr/local/lib/python3.12/dist-packages (from matplotlib) (4.59.2)\n",
            "Requirement already satisfied: kiwisolver>=1.3.1 in /usr/local/lib/python3.12/dist-packages (from matplotlib) (1.4.9)\n",
            "Requirement already satisfied: numpy>=1.23 in /usr/local/lib/python3.12/dist-packages (from matplotlib) (2.0.2)\n",
            "Requirement already satisfied: packaging>=20.0 in /usr/local/lib/python3.12/dist-packages (from matplotlib) (25.0)\n",
            "Requirement already satisfied: pillow>=8 in /usr/local/lib/python3.12/dist-packages (from matplotlib) (11.3.0)\n",
            "Requirement already satisfied: pyparsing>=2.3.1 in /usr/local/lib/python3.12/dist-packages (from matplotlib) (3.2.3)\n",
            "Requirement already satisfied: python-dateutil>=2.7 in /usr/local/lib/python3.12/dist-packages (from matplotlib) (2.9.0.post0)\n",
            "Requirement already satisfied: six>=1.5 in /usr/local/lib/python3.12/dist-packages (from python-dateutil>=2.7->matplotlib) (1.17.0)\n",
            "Requirement already satisfied: seaborn in /usr/local/lib/python3.12/dist-packages (0.13.2)\n",
            "Requirement already satisfied: numpy!=1.24.0,>=1.20 in /usr/local/lib/python3.12/dist-packages (from seaborn) (2.0.2)\n",
            "Requirement already satisfied: pandas>=1.2 in /usr/local/lib/python3.12/dist-packages (from seaborn) (2.2.2)\n",
            "Requirement already satisfied: matplotlib!=3.6.1,>=3.4 in /usr/local/lib/python3.12/dist-packages (from seaborn) (3.10.0)\n",
            "Requirement already satisfied: contourpy>=1.0.1 in /usr/local/lib/python3.12/dist-packages (from matplotlib!=3.6.1,>=3.4->seaborn) (1.3.3)\n",
            "Requirement already satisfied: cycler>=0.10 in /usr/local/lib/python3.12/dist-packages (from matplotlib!=3.6.1,>=3.4->seaborn) (0.12.1)\n",
            "Requirement already satisfied: fonttools>=4.22.0 in /usr/local/lib/python3.12/dist-packages (from matplotlib!=3.6.1,>=3.4->seaborn) (4.59.2)\n",
            "Requirement already satisfied: kiwisolver>=1.3.1 in /usr/local/lib/python3.12/dist-packages (from matplotlib!=3.6.1,>=3.4->seaborn) (1.4.9)\n",
            "Requirement already satisfied: packaging>=20.0 in /usr/local/lib/python3.12/dist-packages (from matplotlib!=3.6.1,>=3.4->seaborn) (25.0)\n",
            "Requirement already satisfied: pillow>=8 in /usr/local/lib/python3.12/dist-packages (from matplotlib!=3.6.1,>=3.4->seaborn) (11.3.0)\n",
            "Requirement already satisfied: pyparsing>=2.3.1 in /usr/local/lib/python3.12/dist-packages (from matplotlib!=3.6.1,>=3.4->seaborn) (3.2.3)\n",
            "Requirement already satisfied: python-dateutil>=2.7 in /usr/local/lib/python3.12/dist-packages (from matplotlib!=3.6.1,>=3.4->seaborn) (2.9.0.post0)\n",
            "Requirement already satisfied: pytz>=2020.1 in /usr/local/lib/python3.12/dist-packages (from pandas>=1.2->seaborn) (2025.2)\n",
            "Requirement already satisfied: tzdata>=2022.7 in /usr/local/lib/python3.12/dist-packages (from pandas>=1.2->seaborn) (2025.2)\n",
            "Requirement already satisfied: six>=1.5 in /usr/local/lib/python3.12/dist-packages (from python-dateutil>=2.7->matplotlib!=3.6.1,>=3.4->seaborn) (1.17.0)\n",
            "Requirement already satisfied: transformers in /usr/local/lib/python3.12/dist-packages (4.56.1)\n",
            "Requirement already satisfied: filelock in /usr/local/lib/python3.12/dist-packages (from transformers) (3.19.1)\n",
            "Requirement already satisfied: huggingface-hub<1.0,>=0.34.0 in /usr/local/lib/python3.12/dist-packages (from transformers) (0.34.4)\n",
            "Requirement already satisfied: numpy>=1.17 in /usr/local/lib/python3.12/dist-packages (from transformers) (2.0.2)\n",
            "Requirement already satisfied: packaging>=20.0 in /usr/local/lib/python3.12/dist-packages (from transformers) (25.0)\n",
            "Requirement already satisfied: pyyaml>=5.1 in /usr/local/lib/python3.12/dist-packages (from transformers) (6.0.2)\n",
            "Requirement already satisfied: regex!=2019.12.17 in /usr/local/lib/python3.12/dist-packages (from transformers) (2024.11.6)\n",
            "Requirement already satisfied: requests in /usr/local/lib/python3.12/dist-packages (from transformers) (2.32.4)\n",
            "Requirement already satisfied: tokenizers<=0.23.0,>=0.22.0 in /usr/local/lib/python3.12/dist-packages (from transformers) (0.22.0)\n",
            "Requirement already satisfied: safetensors>=0.4.3 in /usr/local/lib/python3.12/dist-packages (from transformers) (0.6.2)\n",
            "Requirement already satisfied: tqdm>=4.27 in /usr/local/lib/python3.12/dist-packages (from transformers) (4.67.1)\n",
            "Requirement already satisfied: fsspec>=2023.5.0 in /usr/local/lib/python3.12/dist-packages (from huggingface-hub<1.0,>=0.34.0->transformers) (2025.3.0)\n",
            "Requirement already satisfied: typing-extensions>=3.7.4.3 in /usr/local/lib/python3.12/dist-packages (from huggingface-hub<1.0,>=0.34.0->transformers) (4.15.0)\n",
            "Requirement already satisfied: hf-xet<2.0.0,>=1.1.3 in /usr/local/lib/python3.12/dist-packages (from huggingface-hub<1.0,>=0.34.0->transformers) (1.1.9)\n",
            "Requirement already satisfied: charset_normalizer<4,>=2 in /usr/local/lib/python3.12/dist-packages (from requests->transformers) (3.4.3)\n",
            "Requirement already satisfied: idna<4,>=2.5 in /usr/local/lib/python3.12/dist-packages (from requests->transformers) (3.10)\n",
            "Requirement already satisfied: urllib3<3,>=1.21.1 in /usr/local/lib/python3.12/dist-packages (from requests->transformers) (2.5.0)\n",
            "Requirement already satisfied: certifi>=2017.4.17 in /usr/local/lib/python3.12/dist-packages (from requests->transformers) (2025.8.3)\n",
            "Requirement already satisfied: huggingface_hub in /usr/local/lib/python3.12/dist-packages (0.34.4)\n",
            "Requirement already satisfied: filelock in /usr/local/lib/python3.12/dist-packages (from huggingface_hub) (3.19.1)\n",
            "Requirement already satisfied: fsspec>=2023.5.0 in /usr/local/lib/python3.12/dist-packages (from huggingface_hub) (2025.3.0)\n",
            "Requirement already satisfied: packaging>=20.9 in /usr/local/lib/python3.12/dist-packages (from huggingface_hub) (25.0)\n",
            "Requirement already satisfied: pyyaml>=5.1 in /usr/local/lib/python3.12/dist-packages (from huggingface_hub) (6.0.2)\n",
            "Requirement already satisfied: requests in /usr/local/lib/python3.12/dist-packages (from huggingface_hub) (2.32.4)\n",
            "Requirement already satisfied: tqdm>=4.42.1 in /usr/local/lib/python3.12/dist-packages (from huggingface_hub) (4.67.1)\n",
            "Requirement already satisfied: typing-extensions>=3.7.4.3 in /usr/local/lib/python3.12/dist-packages (from huggingface_hub) (4.15.0)\n",
            "Requirement already satisfied: hf-xet<2.0.0,>=1.1.3 in /usr/local/lib/python3.12/dist-packages (from huggingface_hub) (1.1.9)\n",
            "Requirement already satisfied: charset_normalizer<4,>=2 in /usr/local/lib/python3.12/dist-packages (from requests->huggingface_hub) (3.4.3)\n",
            "Requirement already satisfied: idna<4,>=2.5 in /usr/local/lib/python3.12/dist-packages (from requests->huggingface_hub) (3.10)\n",
            "Requirement already satisfied: urllib3<3,>=1.21.1 in /usr/local/lib/python3.12/dist-packages (from requests->huggingface_hub) (2.5.0)\n",
            "Requirement already satisfied: certifi>=2017.4.17 in /usr/local/lib/python3.12/dist-packages (from requests->huggingface_hub) (2025.8.3)\n"
          ]
        }
      ]
    },
    {
      "cell_type": "markdown",
      "source": [
        "**Important:** Restart the kernel after installation to ensure all packages are properly loaded."
      ],
      "metadata": {
        "id": "rCIuOOhyGh0l"
      }
    },
    {
      "cell_type": "markdown",
      "source": [
        "**What is Tokenization?**\n",
        "\n",
        "Tokenization is the process of breaking down text into smaller components, typically words or phrases. It serves as the first step in most text processing pipelines, converting continuous text into discrete units that can be analyzed individually.\n",
        "\n",
        "**Why Tokenization is Important:**\n",
        "\n",
        "Text Segmentation: Breaks continuous text into manageable pieces\n",
        "\n",
        "Language Understanding: Helps algorithms identify word boundaries\n",
        "\n",
        "Feature Preparation: Creates input features for machine learning models\n",
        "\n",
        "Standardization: Provides consistent text representation"
      ],
      "metadata": {
        "id": "ZBT8Ie4rGmiA"
      }
    },
    {
      "cell_type": "markdown",
      "source": [
        "**Method 1: Modern Tokenization with Transformers (BPE)**"
      ],
      "metadata": {
        "id": "5kjG-uX7G0pj"
      }
    },
    {
      "cell_type": "code",
      "source": [
        "from transformers import GPT2Tokenizer\n",
        "\n",
        "# Load a pretrained GPT-2 tokenizer (uses Byte Pair Encoding)\n",
        "tokenizer = GPT2Tokenizer.from_pretrained(\"gpt2\")\n",
        "\n",
        "# Example sentence\n",
        "sentence = \"I live in Mysore, which has a growing population.\"\n",
        "print(f\"Original sentence: {sentence}\")\n",
        "\n",
        "# Tokenize into subwords\n",
        "tokens = tokenizer.tokenize(sentence)\n",
        "print(f\"Subword Tokens: {tokens}\")\n",
        "\n",
        "# Convert to token IDs (model input format)\n",
        "token_ids = tokenizer.convert_tokens_to_ids(tokens)\n",
        "print(f\"Token IDs: {token_ids}\")\n",
        "\n",
        "# Decode back to original text\n",
        "decoded_sentence = tokenizer.decode(token_ids)\n",
        "print(f\"Decoded Sentence: {decoded_sentence}\")"
      ],
      "metadata": {
        "colab": {
          "base_uri": "https://localhost:8080/",
          "height": 371,
          "referenced_widgets": [
            "0a60e081aed8415bbe59fc04682a4060",
            "9d9b31b7489848129bbb00c636f76aa8",
            "4b2a58a1f497454b9a88f0c0491b1e71",
            "1c89cce8ef824268bd481541fcce783e",
            "8c6045d493a84100b5d456a6f8c9dd05",
            "a67750f59c094dcb9bd72ebab759cf37",
            "6e916565fc6d4f1ca73a4661c4e0cef9",
            "0d397a9002444499a67510443964a068",
            "75cf1ca6e5d643a29eea6355a474a679",
            "86ddb860a6914c5a95de3ec926ca72ba",
            "c91a522394ab4cc880c48102359eb356",
            "ca76db3e9526460d8bd556178686bca8",
            "20e7cb648d3e4228ab71b3ede06f78bc",
            "8f0a62a29031496fbe76eb5f5ee51436",
            "fafadb79536049938123060dd8563edc",
            "ce9d5e97057549e0a08927c8814c8713",
            "99434dc5828d4f969d4e6774bd1fbdd7",
            "5ca2b7f7f7ca455490faa0337e587042",
            "6a56a07bcc524a15a12d9eb326f20248",
            "18d1464a350e423c8f8be86b45910ce7",
            "9b66ef02c6764e70b1a729e1e127f8e8",
            "0c8831e7b9fc4879be03fda6e618ac34",
            "0b4704b64b4e441e9c4291068bb53eb2",
            "dd6bdd3459e543f5bfce158dc206d42d",
            "7ddd876cd6c34c5f878a27e5d5dd51ff",
            "66dab883882b4fee8498ce54428553fe",
            "43542b54a327407e99023a6c9e06ca15",
            "78b31981aabc4fafbf5fb9064bf1023c",
            "a68d58006440413ea28edb664c771b43",
            "399f75cd23444a3f9498b11a903c2eee",
            "78bf32c205ed41f5b644538c2021cb65",
            "108b9ed22337437fb250137757ce0d91",
            "7b3c2c25af4841738bc127967424159f",
            "54e9f3986c964808a37f6388889a43c0",
            "d68143e56fcd446f963d482de5d28df1",
            "2d57a4919e7940239b3346ce1001cef0",
            "5e3f88f2640e4c6498273749a34db55f",
            "6b955f29b3e9497a95fcca011dff73cf",
            "3bf42070bc7f4bd38cbe45c5a598f3ee",
            "017abf6b35c545009483e5c6a2b630ff",
            "fe4cd756c29c4099ba76c7e14c0321ed",
            "a53e290de8cf4433b97d23ec6e62a7ad",
            "4daeee145b5c493fb3c5c2b561fcd0af",
            "9778163b5bfd48939f6fe52fe888673c",
            "db8c2fed82204d7a8876979b022af8f1",
            "19b50eec10254f8587207c9525a6eb77",
            "73d4a0f4b2aa40948bb9d79e60a0fe50",
            "bfd3ab4ffb8943729d47ead7bf83a5f4",
            "14d0e7041bc2449eab61b6b74999f768",
            "bcf649b07bba411d8ca9fb81a2a1f4f3",
            "b998c1b9e1ee4d7c928d73c9630b970c",
            "03d1583b5d5f4963adacb26036af1f85",
            "1d49f5bb9d364e8b8fa2ffce66d70729",
            "718f287385d84308b4fb6a3d6d1b1981",
            "02cd38b870074ec690b61f209fdbd65f"
          ]
        },
        "id": "M1XiwGnsG2Bd",
        "outputId": "22d6ccbd-0878-497b-9d9b-7deaab218491"
      },
      "execution_count": 1,
      "outputs": [
        {
          "output_type": "stream",
          "name": "stderr",
          "text": [
            "/usr/local/lib/python3.12/dist-packages/huggingface_hub/utils/_auth.py:94: UserWarning: \n",
            "The secret `HF_TOKEN` does not exist in your Colab secrets.\n",
            "To authenticate with the Hugging Face Hub, create a token in your settings tab (https://huggingface.co/settings/tokens), set it as secret in your Google Colab and restart your session.\n",
            "You will be able to reuse this secret in all of your notebooks.\n",
            "Please note that authentication is recommended but still optional to access public models or datasets.\n",
            "  warnings.warn(\n"
          ]
        },
        {
          "output_type": "display_data",
          "data": {
            "text/plain": [
              "tokenizer_config.json:   0%|          | 0.00/26.0 [00:00<?, ?B/s]"
            ],
            "application/vnd.jupyter.widget-view+json": {
              "version_major": 2,
              "version_minor": 0,
              "model_id": "0a60e081aed8415bbe59fc04682a4060"
            }
          },
          "metadata": {}
        },
        {
          "output_type": "display_data",
          "data": {
            "text/plain": [
              "vocab.json:   0%|          | 0.00/1.04M [00:00<?, ?B/s]"
            ],
            "application/vnd.jupyter.widget-view+json": {
              "version_major": 2,
              "version_minor": 0,
              "model_id": "ca76db3e9526460d8bd556178686bca8"
            }
          },
          "metadata": {}
        },
        {
          "output_type": "display_data",
          "data": {
            "text/plain": [
              "merges.txt:   0%|          | 0.00/456k [00:00<?, ?B/s]"
            ],
            "application/vnd.jupyter.widget-view+json": {
              "version_major": 2,
              "version_minor": 0,
              "model_id": "0b4704b64b4e441e9c4291068bb53eb2"
            }
          },
          "metadata": {}
        },
        {
          "output_type": "display_data",
          "data": {
            "text/plain": [
              "tokenizer.json:   0%|          | 0.00/1.36M [00:00<?, ?B/s]"
            ],
            "application/vnd.jupyter.widget-view+json": {
              "version_major": 2,
              "version_minor": 0,
              "model_id": "54e9f3986c964808a37f6388889a43c0"
            }
          },
          "metadata": {}
        },
        {
          "output_type": "display_data",
          "data": {
            "text/plain": [
              "config.json:   0%|          | 0.00/665 [00:00<?, ?B/s]"
            ],
            "application/vnd.jupyter.widget-view+json": {
              "version_major": 2,
              "version_minor": 0,
              "model_id": "db8c2fed82204d7a8876979b022af8f1"
            }
          },
          "metadata": {}
        },
        {
          "output_type": "stream",
          "name": "stdout",
          "text": [
            "Original sentence: I live in Mysore, which has a growing population.\n",
            "Subword Tokens: ['I', 'Ġlive', 'Ġin', 'ĠM', 'ys', 'ore', ',', 'Ġwhich', 'Ġhas', 'Ġa', 'Ġgrowing', 'Ġpopulation', '.']\n",
            "Token IDs: [40, 2107, 287, 337, 893, 382, 11, 543, 468, 257, 3957, 3265, 13]\n",
            "Decoded Sentence: I live in Mysore, which has a growing population.\n"
          ]
        }
      ]
    },
    {
      "cell_type": "markdown",
      "source": [
        "**Key Concepts:**\n",
        "\n",
        "BPE (Byte Pair Encoding): Subword tokenization method that handles out-of-vocabulary words\n",
        "\n",
        "Subword Tokens: Parts of words that capture morphological patterns\n",
        "\n",
        "Token IDs: Numerical representations that neural networks can process\n",
        "\n",
        "Reversibility: Ability to reconstruct original text from tokens"
      ],
      "metadata": {
        "id": "Vuau-kVRG9Vm"
      }
    },
    {
      "cell_type": "markdown",
      "source": [
        "**Method 2: Traditional Tokenization with NLTK**"
      ],
      "metadata": {
        "id": "Ey3uLvrSHBSP"
      }
    },
    {
      "cell_type": "code",
      "source": [
        "import nltk\n",
        "from nltk.tokenize import word_tokenize\n",
        "\n",
        "# Download required NLTK data\n",
        "nltk.download('punkt', quiet=True)\n",
        "nltk.download('punkt_tab', quiet=True)\n",
        "\n",
        "# Define sample text\n",
        "text = \"The quick brown fox jumps over the lazy dog in the garden.\"\n",
        "print(f\"Original text: {text}\")\n",
        "\n",
        "# Tokenize the sentence\n",
        "tokens = word_tokenize(text)\n",
        "print(f\"NLTK Tokens: {tokens}\")"
      ],
      "metadata": {
        "colab": {
          "base_uri": "https://localhost:8080/"
        },
        "id": "cHnvOJoAHGiF",
        "outputId": "95d26b50-29c7-457f-8ba7-8002e4103e5b"
      },
      "execution_count": 2,
      "outputs": [
        {
          "output_type": "stream",
          "name": "stdout",
          "text": [
            "Original text: The quick brown fox jumps over the lazy dog in the garden.\n",
            "NLTK Tokens: ['The', 'quick', 'brown', 'fox', 'jumps', 'over', 'the', 'lazy', 'dog', 'in', 'the', 'garden', '.']\n"
          ]
        }
      ]
    },
    {
      "cell_type": "markdown",
      "source": [
        "**NLTK Tokenization Features:**\n",
        "\n",
        "Word-level tokenization: Splits text into individual words\n",
        "\n",
        "Punctuation handling: Separates punctuation marks\n",
        "\n",
        "Language-specific rules: Handles contractions and special cases\n",
        "\n",
        "Rule-based approach: Uses predefined patterns for segmentation"
      ],
      "metadata": {
        "id": "A6EW9C5yHL7D"
      }
    },
    {
      "cell_type": "markdown",
      "source": [
        "**Method 3: Tokenization with spaCy**"
      ],
      "metadata": {
        "id": "iOw_-BSlHSsE"
      }
    },
    {
      "cell_type": "code",
      "source": [
        "import spacy\n",
        "\n",
        "# Load the English language model\n",
        "nlp = spacy.load(\"en_core_web_sm\")\n",
        "\n",
        "# Process the sentence\n",
        "doc = nlp(text)\n",
        "\n",
        "# Extract tokens\n",
        "spacy_tokens = [token.text for token in doc]\n",
        "print(f\"spaCy Tokens: {spacy_tokens}\")"
      ],
      "metadata": {
        "colab": {
          "base_uri": "https://localhost:8080/"
        },
        "id": "dWBYfAT6HUYI",
        "outputId": "b36805a3-933a-408c-82be-c92139e8ba25"
      },
      "execution_count": 3,
      "outputs": [
        {
          "output_type": "stream",
          "name": "stdout",
          "text": [
            "spaCy Tokens: ['The', 'quick', 'brown', 'fox', 'jumps', 'over', 'the', 'lazy', 'dog', 'in', 'the', 'garden', '.']\n"
          ]
        }
      ]
    },
    {
      "cell_type": "markdown",
      "source": [
        "**spaCy Tokenization Advantages:**\n",
        "\n",
        "Statistical models: Uses machine learning for better accuracy\n",
        "\n",
        "Rich token attributes: Provides additional linguistic information\n",
        "\n",
        "Multi-language support: Handles various languages effectively\n",
        "\n",
        "Context awareness: Considers surrounding text for better decisions"
      ],
      "metadata": {
        "id": "i29M-hb3HXp7"
      }
    },
    {
      "cell_type": "markdown",
      "source": [
        "**What are Stop Words?**\n",
        "\n",
        "Stop words are common words that usually do not carry significant meaning and are often removed during text preprocessing. Examples include \"is\", \"and\", \"the\", \"of\", etc. These words appear frequently in text but typically don't contribute meaningful information for analysis purposes.\n",
        "\n",
        "**Why Remove Stop Words?**\n",
        "\n",
        "Noise Reduction: Eliminates low-information content\n",
        "\n",
        "Focus Enhancement: Emphasizes important terms\n",
        "\n",
        "Performance Improvement: Reduces computational overhead\n",
        "\n",
        "Feature Quality: Improves signal-to-noise ratio in text analysis"
      ],
      "metadata": {
        "id": "UctUINTJHaU3"
      }
    },
    {
      "cell_type": "code",
      "source": [
        "from nltk.corpus import stopwords\n",
        "\n",
        "# Download stopwords data\n",
        "nltk.download('stopwords', quiet=True)\n",
        "\n",
        "# Sample text\n",
        "text = \"This is a sample sentence demonstrating the removal of stop words.\"\n",
        "print(f\"Original text: {text}\")\n",
        "\n",
        "# Step 1: Tokenize\n",
        "words = word_tokenize(text)\n",
        "print(f\"Tokenized words: {words}\")\n",
        "\n",
        "# Step 2: Get English stop words\n",
        "stop_words = set(stopwords.words('english'))\n",
        "print(f\"Number of English stop words: {len(stop_words)}\")\n",
        "print(f\"Sample stop words: {list(stop_words)[:10]}\")\n",
        "\n",
        "# Step 3: Identify stop words in text\n",
        "stop_words_in_text = [word for word in words if word.lower() in stop_words]\n",
        "print(f\"Stop words found in text: {stop_words_in_text}\")\n",
        "\n",
        "# Step 4: Remove stop words\n",
        "filtered_sentence = [word for word in words if word.lower() not in stop_words]\n",
        "print(f\"Text without stop words: {' '.join(filtered_sentence)}\")"
      ],
      "metadata": {
        "colab": {
          "base_uri": "https://localhost:8080/"
        },
        "id": "4XfdbZ0oHifJ",
        "outputId": "ae8effaf-d2ab-4cf2-f52c-5d069aa766e0"
      },
      "execution_count": 4,
      "outputs": [
        {
          "output_type": "stream",
          "name": "stdout",
          "text": [
            "Original text: This is a sample sentence demonstrating the removal of stop words.\n",
            "Tokenized words: ['This', 'is', 'a', 'sample', 'sentence', 'demonstrating', 'the', 'removal', 'of', 'stop', 'words', '.']\n",
            "Number of English stop words: 198\n",
            "Sample stop words: [\"she's\", 'after', 'and', 'y', \"shouldn't\", 'for', 'myself', \"i've\", 'what', \"don't\"]\n",
            "Stop words found in text: ['This', 'is', 'a', 'the', 'of']\n",
            "Text without stop words: sample sentence demonstrating removal stop words .\n"
          ]
        }
      ]
    },
    {
      "cell_type": "markdown",
      "source": [
        "**Advanced Stop Word Removal with spaCy**"
      ],
      "metadata": {
        "id": "EQFnM2unH0e9"
      }
    },
    {
      "cell_type": "code",
      "source": [
        "doc = nlp(text)\n",
        "spacy_filtered = [token.text for token in doc if not token.is_stop and token.is_alpha]\n",
        "print(f\"spaCy filtered text: {' '.join(spacy_filtered)}\")"
      ],
      "metadata": {
        "colab": {
          "base_uri": "https://localhost:8080/"
        },
        "id": "orxQwWY6H16y",
        "outputId": "9ea2693e-bd59-45e5-810e-edabc00f0cd6"
      },
      "execution_count": 5,
      "outputs": [
        {
          "output_type": "stream",
          "name": "stdout",
          "text": [
            "spaCy filtered text: sample sentence demonstrating removal stop words\n"
          ]
        }
      ]
    },
    {
      "cell_type": "markdown",
      "source": [
        "**spaCy Advantages:**\n",
        "\n",
        "Built-in stop word detection: No separate download required\n",
        "\n",
        "Alphabetic filtering: Removes punctuation automatically\n",
        "\n",
        "Context-aware: Better handling of ambiguous cases"
      ],
      "metadata": {
        "id": "c_cPfrEEH46X"
      }
    },
    {
      "cell_type": "markdown",
      "source": [
        "# **Part-of-Speech (POS) Tagging**\n",
        "\n",
        "**What is POS Tagging?**\n",
        "\n",
        "POS tagging is the process of assigning grammatical labels to words in a sentence based on their context and definition. Each word is tagged with a specific part of speech such as noun, verb, adjective, adverb, preposition, etc.\n",
        "\n",
        "**Common POS Tags:**\n",
        "\n",
        "Nouns (NN, NNS, NNP): Person, place, thing, or idea\n",
        "\n",
        "Verbs (VB, VBD, VBG, VBN, VBP, VBZ): Action or state words\n",
        "\n",
        "Adjectives (JJ, JJR, JJS): Descriptive words that modify nouns\n",
        "\n",
        "Adverbs (RB, RBR, RBS): Words that modify verbs, adjectives, or other adverbs\n",
        "\n",
        "Pronouns (PRP, PRP$): Words that replace nouns\n",
        "\n",
        "Prepositions (IN): Words that show\n",
        "relationships between other words\n",
        "\n",
        "Conjunctions (CC): Words that connect words, phrases, or clauses"
      ],
      "metadata": {
        "id": "jO3DYmHjH_4p"
      }
    },
    {
      "cell_type": "markdown",
      "source": [
        "**Method 1: Basic POS Tagging with NLTK**"
      ],
      "metadata": {
        "id": "IpgIVqPhILB9"
      }
    },
    {
      "cell_type": "code",
      "source": [
        "from nltk import pos_tag\n",
        "from nltk.tokenize import word_tokenize\n",
        "from collections import Counter\n",
        "\n",
        "# Download required data\n",
        "import nltk\n",
        "nltk.download('averaged_perceptron_tagger_eng', quiet=True) # Explicitly download the English tagger\n",
        "nltk.download('punkt', quiet=True)\n",
        "\n",
        "# Sample sentence\n",
        "sentence = \"The quick brown fox jumps over the lazy dog in the garden.\"\n",
        "tokens = word_tokenize(sentence)\n",
        "\n",
        "# Perform POS tagging\n",
        "pos_tags = pos_tag(tokens)\n",
        "print(f\"POS Tags: {pos_tags}\")\n",
        "\n",
        "# Function to explain POS tags\n",
        "def explain_pos_tags(pos_tags):\n",
        "    tag_meanings = {\n",
        "        'DT': 'Determiner',\n",
        "        'JJ': 'Adjective',\n",
        "        'NN': 'Noun, singular',\n",
        "        'NNS': 'Noun, plural',\n",
        "        'VBZ': 'Verb, 3rd person singular present',\n",
        "        'VB': 'Verb, base form',\n",
        "        'IN': 'Preposition or subordinating conjunction',\n",
        "        'PRP': 'Personal pronoun',\n",
        "        'RB': 'Adverb',\n",
        "        'CC': 'Coordinating conjunction',\n",
        "        '.': 'Punctuation',\n",
        "        'VBD': 'Verb, past tense',\n",
        "        'MD': 'Modal',\n",
        "        'PRP$': 'Possessive pronoun',\n",
        "        'NFP': 'Noise function',\n",
        "        'POS': 'Possessive ending',\n",
        "        'WP': 'Wh-pronoun',\n",
        "        'WRB': 'Wh-adverb'\n",
        "    }\n",
        "\n",
        "    print(\"\\nWord\\t\\tPOS Tag\\t\\tMeaning\")\n",
        "    print(\"-\" * 50)\n",
        "    for word, tag in pos_tags:\n",
        "        meaning = tag_meanings.get(tag, f'Other ({tag})')\n",
        "        print(f\"{word:<12}\\t{tag:<8}\\t{meaning}\")\n",
        "\n",
        "explain_pos_tags(pos_tags)"
      ],
      "metadata": {
        "colab": {
          "base_uri": "https://localhost:8080/"
        },
        "id": "ojemKhLzINK9",
        "outputId": "aa7edf84-3ab5-4308-e115-03c98023e473"
      },
      "execution_count": 6,
      "outputs": [
        {
          "output_type": "stream",
          "name": "stdout",
          "text": [
            "POS Tags: [('The', 'DT'), ('quick', 'JJ'), ('brown', 'NN'), ('fox', 'NN'), ('jumps', 'VBZ'), ('over', 'IN'), ('the', 'DT'), ('lazy', 'JJ'), ('dog', 'NN'), ('in', 'IN'), ('the', 'DT'), ('garden', 'NN'), ('.', '.')]\n",
            "\n",
            "Word\t\tPOS Tag\t\tMeaning\n",
            "--------------------------------------------------\n",
            "The         \tDT      \tDeterminer\n",
            "quick       \tJJ      \tAdjective\n",
            "brown       \tNN      \tNoun, singular\n",
            "fox         \tNN      \tNoun, singular\n",
            "jumps       \tVBZ     \tVerb, 3rd person singular present\n",
            "over        \tIN      \tPreposition or subordinating conjunction\n",
            "the         \tDT      \tDeterminer\n",
            "lazy        \tJJ      \tAdjective\n",
            "dog         \tNN      \tNoun, singular\n",
            "in          \tIN      \tPreposition or subordinating conjunction\n",
            "the         \tDT      \tDeterminer\n",
            "garden      \tNN      \tNoun, singular\n",
            ".           \t.       \tPunctuation\n"
          ]
        }
      ]
    },
    {
      "cell_type": "markdown",
      "source": [
        "**Method 2: Universal POS Tags**"
      ],
      "metadata": {
        "id": "_sez7YnjI0_I"
      }
    },
    {
      "cell_type": "code",
      "source": [
        "# Using universal POS tags for simplified categories\n",
        "import nltk\n",
        "nltk.download('universal_tagset', quiet=True) # Download the universal tagset\n",
        "\n",
        "universal_pos_tags = pos_tag(tokens, tagset='universal')\n",
        "print(f\"Universal POS Tags: {universal_pos_tags}\")\n",
        "\n",
        "# Count tag frequencies\n",
        "universal_tag_freq = Counter([tag for word, tag in universal_pos_tags])\n",
        "print(f\"Tag Frequencies: {universal_tag_freq}\")"
      ],
      "metadata": {
        "colab": {
          "base_uri": "https://localhost:8080/"
        },
        "id": "Ycpw79h6I24J",
        "outputId": "d46da09f-fbf2-460e-aed4-dfef775dacb6"
      },
      "execution_count": 7,
      "outputs": [
        {
          "output_type": "stream",
          "name": "stdout",
          "text": [
            "Universal POS Tags: [('The', 'DET'), ('quick', 'ADJ'), ('brown', 'NOUN'), ('fox', 'NOUN'), ('jumps', 'VERB'), ('over', 'ADP'), ('the', 'DET'), ('lazy', 'ADJ'), ('dog', 'NOUN'), ('in', 'ADP'), ('the', 'DET'), ('garden', 'NOUN'), ('.', '.')]\n",
            "Tag Frequencies: Counter({'NOUN': 4, 'DET': 3, 'ADJ': 2, 'ADP': 2, 'VERB': 1, '.': 1})\n"
          ]
        }
      ]
    },
    {
      "cell_type": "markdown",
      "source": [
        "**Universal Tags Benefits:**\n",
        "\n",
        "Language Independence: Consistent across different languages\n",
        "\n",
        "Simplified Categories: Fewer, more general tag types\n",
        "\n",
        "Cross-linguistic Analysis: Enables comparison between languages"
      ],
      "metadata": {
        "id": "mRrIdK9RI_T7"
      }
    },
    {
      "cell_type": "markdown",
      "source": [
        "**Method 3: Advanced POS Tagging with spaCy**"
      ],
      "metadata": {
        "id": "QtHqyvNuJD_N"
      }
    },
    {
      "cell_type": "code",
      "source": [
        "sentence = \"The quick brown fox jumps over the lazy dog in the garden 4 times.\"\n",
        "# Process with spaCy\n",
        "doc = nlp(sentence)\n",
        "\n",
        "# Extract detailed POS information\n",
        "spacy_pos_tags = [(token.text, token.pos_, token.tag_) for token in doc]\n",
        "print(\"spaCy POS Tags (word, pos, detailed_tag):\")\n",
        "for word, pos, tag in spacy_pos_tags:\n",
        "    print(f\"{word:<12} {pos:<8} {tag}\")\n",
        "\n",
        "# Detailed token analysis\n",
        "def analyze_sentence_spacy(sentence):\n",
        "    doc = nlp(sentence)\n",
        "\n",
        "    print(\"\\nDetailed POS Analysis:\")\n",
        "    print(\"-\" * 80)\n",
        "    print(f\"{'Word':<12} {'POS':<8} {'Tag':<8} {'Lemma':<12} {'Shape':<10} {'Alpha'}\")\n",
        "    print(\"-\" * 80)\n",
        "\n",
        "    for token in doc:\n",
        "        print(f\"{token.text:<12} {token.pos_:<8} {token.tag_:<8} {token.lemma_:<12} {token.shape_:<10} {token.is_alpha}\")\n",
        "\n",
        "analyze_sentence_spacy(sentence)"
      ],
      "metadata": {
        "colab": {
          "base_uri": "https://localhost:8080/"
        },
        "id": "69ETbhdqJGsb",
        "outputId": "a62c29f3-04f7-405c-f1dc-eb60945d78a4"
      },
      "execution_count": 8,
      "outputs": [
        {
          "output_type": "stream",
          "name": "stdout",
          "text": [
            "spaCy POS Tags (word, pos, detailed_tag):\n",
            "The          DET      DT\n",
            "quick        ADJ      JJ\n",
            "brown        ADJ      JJ\n",
            "fox          NOUN     NN\n",
            "jumps        VERB     VBZ\n",
            "over         ADP      IN\n",
            "the          DET      DT\n",
            "lazy         ADJ      JJ\n",
            "dog          NOUN     NN\n",
            "in           ADP      IN\n",
            "the          DET      DT\n",
            "garden       NOUN     NN\n",
            "4            NUM      CD\n",
            "times        NOUN     NNS\n",
            ".            PUNCT    .\n",
            "\n",
            "Detailed POS Analysis:\n",
            "--------------------------------------------------------------------------------\n",
            "Word         POS      Tag      Lemma        Shape      Alpha\n",
            "--------------------------------------------------------------------------------\n",
            "The          DET      DT       the          Xxx        True\n",
            "quick        ADJ      JJ       quick        xxxx       True\n",
            "brown        ADJ      JJ       brown        xxxx       True\n",
            "fox          NOUN     NN       fox          xxx        True\n",
            "jumps        VERB     VBZ      jump         xxxx       True\n",
            "over         ADP      IN       over         xxxx       True\n",
            "the          DET      DT       the          xxx        True\n",
            "lazy         ADJ      JJ       lazy         xxxx       True\n",
            "dog          NOUN     NN       dog          xxx        True\n",
            "in           ADP      IN       in           xx         True\n",
            "the          DET      DT       the          xxx        True\n",
            "garden       NOUN     NN       garden       xxxx       True\n",
            "4            NUM      CD       4            d          False\n",
            "times        NOUN     NNS      time         xxxx       True\n",
            ".            PUNCT    .        .            .          False\n"
          ]
        }
      ]
    },
    {
      "cell_type": "markdown",
      "source": [
        "spaCy POS Features:\n",
        "\n",
        "Fine-grained tags: Provides both coarse and fine-grained POS information\n",
        "\n",
        "Additional attributes: Lemma, shape, and other linguistic features\n",
        "\n",
        "Statistical accuracy: Uses trained models for better performance"
      ],
      "metadata": {
        "id": "-NeQlcVHJO3A"
      }
    },
    {
      "cell_type": "markdown",
      "source": [
        "# **Lemmatization and Stemming**\n",
        "Understanding the Difference\n",
        "\n",
        "**Stemming** is a text normalization technique that reduces a word to its root form by stripping affixes without considering the word's meaning or context. It's faster but less accurate.\n",
        "\n",
        "**Lemmatization** reduces a word to its base form by considering the context and part of speech. This approach provides more meaningful and accurate results.\n",
        "\n",
        "\n",
        "**Key Differences:**\n",
        "\n",
        "Stemming: Faster, rule-based suffix removal, may produce non-words\n",
        "\n",
        "Lemmatization: More sophisticated, context-aware, always produces valid words\n",
        "\n",
        "Example: \"studies\" → \"studi\" (stemming) vs \"study\" (lemmatization)"
      ],
      "metadata": {
        "id": "Bsd_v-4cOyhd"
      }
    },
    {
      "cell_type": "markdown",
      "source": [
        "**Method 1: Stemming with NLTK PorterStemmer**"
      ],
      "metadata": {
        "id": "655xR6jNO9cg"
      }
    },
    {
      "cell_type": "code",
      "source": [
        "from nltk.stem import PorterStemmer\n",
        "\n",
        "# Initialize stemmer\n",
        "stemmer = PorterStemmer()\n",
        "\n",
        "# Test words\n",
        "test_words = [\"running\", \"runs\", \"easily\", \"fairly\", \"fairness\", \"studies\", \"studying\", \"studied\"]\n",
        "\n",
        "print(\"Word\\t\\tStemmed\")\n",
        "print(\"-\" * 30)\n",
        "for word in test_words:\n",
        "    stemmed_word = stemmer.stem(word)\n",
        "    print(f\"{word:<12}\\t{stemmed_word}\")"
      ],
      "metadata": {
        "colab": {
          "base_uri": "https://localhost:8080/"
        },
        "id": "EjJ7aPbbPBsB",
        "outputId": "f642c0a1-23db-4511-945e-6a147b8a7441"
      },
      "execution_count": 9,
      "outputs": [
        {
          "output_type": "stream",
          "name": "stdout",
          "text": [
            "Word\t\tStemmed\n",
            "------------------------------\n",
            "running     \trun\n",
            "runs        \trun\n",
            "easily      \teasili\n",
            "fairly      \tfairli\n",
            "fairness    \tfair\n",
            "studies     \tstudi\n",
            "studying    \tstudi\n",
            "studied     \tstudi\n"
          ]
        }
      ]
    },
    {
      "cell_type": "markdown",
      "source": [
        "**Porter Stemmer Characteristics:**\n",
        "\n",
        "Rule-based: Uses predefined suffix removal rules\n",
        "\n",
        "Fast processing: Suitable for large-scale text\n",
        "\n",
        "Language-specific: Optimized for English\n",
        "Aggressive stemming: May over-stem words"
      ],
      "metadata": {
        "id": "Y5OAKGk-PFma"
      }
    },
    {
      "cell_type": "markdown",
      "source": [
        "**Method 2: Lemmatization with spaCy**"
      ],
      "metadata": {
        "id": "iMC2eO5EPJvU"
      }
    },
    {
      "cell_type": "code",
      "source": [
        "# Test lemmatization\n",
        "print(\"Word\\t\\tLemmatized\")\n",
        "print(\"-\" * 30)\n",
        "for word in test_words:\n",
        "    doc = nlp(word)\n",
        "    lemmatized_word = doc[0].lemma_\n",
        "    print(f\"{word:<12}\\t{lemmatized_word}\")"
      ],
      "metadata": {
        "colab": {
          "base_uri": "https://localhost:8080/"
        },
        "id": "hV7lTSekPJN8",
        "outputId": "25e3661c-4e0c-481e-bb33-9596bdbc8937"
      },
      "execution_count": 10,
      "outputs": [
        {
          "output_type": "stream",
          "name": "stdout",
          "text": [
            "Word\t\tLemmatized\n",
            "------------------------------\n",
            "running     \trun\n",
            "runs        \trun\n",
            "easily      \teasily\n",
            "fairly      \tfairly\n",
            "fairness    \tfairness\n",
            "studies     \tstudy\n",
            "studying    \tstudy\n",
            "studied     \tstudy\n"
          ]
        }
      ]
    },
    {
      "cell_type": "markdown",
      "source": [
        "**Method 3: Context-Aware Lemmatization**"
      ],
      "metadata": {
        "id": "NGGALPSIPNIl"
      }
    },
    {
      "cell_type": "code",
      "source": [
        "# Process sentences for context-aware lemmatization\n",
        "sentences = [\n",
        "    \"The cats are running in the garden.\",\n",
        "    \"He runs every morning for fitness.\",\n",
        "    \"The studies show interesting results.\",\n",
        "    \"She is studying for her exams.\"\n",
        "]\n",
        "\n",
        "for sentence in sentences:\n",
        "    print(f\"\\nOriginal: {sentence}\")\n",
        "    doc = nlp(sentence)\n",
        "\n",
        "    lemmatized_words = []\n",
        "    for token in doc:\n",
        "        if token.is_alpha:  # Only process alphabetic tokens\n",
        "            lemmatized_words.append(token.lemma_)\n",
        "        else:\n",
        "            lemmatized_words.append(token.text)\n",
        "\n",
        "    print(f\"Lemmatized: {' '.join(lemmatized_words)}\")"
      ],
      "metadata": {
        "colab": {
          "base_uri": "https://localhost:8080/"
        },
        "id": "6Ts09iX5POUm",
        "outputId": "ec375869-9b9d-4d66-bdc9-8441fdf98a67"
      },
      "execution_count": 11,
      "outputs": [
        {
          "output_type": "stream",
          "name": "stdout",
          "text": [
            "\n",
            "Original: The cats are running in the garden.\n",
            "Lemmatized: the cat be run in the garden .\n",
            "\n",
            "Original: He runs every morning for fitness.\n",
            "Lemmatized: he run every morning for fitness .\n",
            "\n",
            "Original: The studies show interesting results.\n",
            "Lemmatized: the study show interesting result .\n",
            "\n",
            "Original: She is studying for her exams.\n",
            "Lemmatized: she be study for her exam .\n"
          ]
        }
      ]
    },
    {
      "cell_type": "markdown",
      "source": [
        "**Context-Aware Benefits:**\n",
        "\n",
        "POS consideration: Uses part-of-speech for accurate lemmatization\n",
        "\n",
        "Meaning preservation: Maintains semantic meaning\n",
        "\n",
        "Disambiguation: Handles words with multiple possible lemmas"
      ],
      "metadata": {
        "id": "NW7cNSN7PST2"
      }
    },
    {
      "cell_type": "markdown",
      "source": [
        "**Comparison: Stemming vs Lemmatization**"
      ],
      "metadata": {
        "id": "zBaf1MRuPV5y"
      }
    },
    {
      "cell_type": "code",
      "source": [
        "comparison_words = [\"better\", \"flying\", \"flies\", \"dogs\", \"churches\", \"mice\", \"feet\"]\n",
        "\n",
        "print(\"Word\\t\\tStemmed\\t\\tLemmatized\")\n",
        "print(\"-\" * 45)\n",
        "for word in comparison_words:\n",
        "    stemmed = stemmer.stem(word)\n",
        "    doc = nlp(word)\n",
        "    lemmatized = doc[0].lemma_\n",
        "    print(f\"{word:<12}\\t{stemmed:<12}\\t{lemmatized}\")"
      ],
      "metadata": {
        "colab": {
          "base_uri": "https://localhost:8080/"
        },
        "id": "oUNHfU1nPXi4",
        "outputId": "19c38446-8a66-4463-9ffc-1f5e21ac6878"
      },
      "execution_count": 12,
      "outputs": [
        {
          "output_type": "stream",
          "name": "stdout",
          "text": [
            "Word\t\tStemmed\t\tLemmatized\n",
            "---------------------------------------------\n",
            "better      \tbetter      \twell\n",
            "flying      \tfli         \tfly\n",
            "flies       \tfli         \tfly\n",
            "dogs        \tdog         \tdog\n",
            "churches    \tchurch      \tchurch\n",
            "mice        \tmice        \tmouse\n",
            "feet        \tfeet        \tfoot\n"
          ]
        }
      ]
    },
    {
      "cell_type": "markdown",
      "source": [
        "# **Named Entity Recognition (NER)**\n",
        "**What is NER?**\n",
        "Named Entity Recognition (NER) is the process of identifying and classifying named entities in text into predefined categories such as person names, organizations, locations, dates, quantities, monetary values, percentages, etc.\n",
        "\n",
        "\n",
        "**Common NER Categories:**\n",
        "\n",
        "PERSON: People, including fictional characters\n",
        "\n",
        "NORP: Nationalities, religious, or political groups\n",
        "\n",
        "FAC: Buildings, airports, highways, bridges\n",
        "\n",
        "ORG: Companies, agencies, institutions\n",
        "\n",
        "GPE: Countries, cities, states\n",
        "\n",
        "LOC: Non-GPE locations, mountain ranges, bodies of water\n",
        "\n",
        "PRODUCT: Objects, vehicles, foods (not services)\n",
        "\n",
        "EVENT: Named hurricanes, battles, wars, sports events\n",
        "\n",
        "WORK_OF_ART: Titles of books, songs, etc.\n",
        "\n",
        "LAW: Named documents made into laws\n",
        "\n",
        "LANGUAGE: Any named language\n",
        "\n",
        "DATE: Absolute or relative dates or periods\n",
        "\n",
        "TIME: Times smaller than a day\n",
        "\n",
        "PERCENT: Percentage, including \"%\"\n",
        "\n",
        "MONEY: Monetary values, including unit\n",
        "\n",
        "QUANTITY: Measurements, weight, distance\n",
        "\n",
        "ORDINAL: \"first\", \"second\", etc.\n",
        "\n",
        "CARDINAL: Numerals that don't fall under another type"
      ],
      "metadata": {
        "id": "9N-itqLVPgjD"
      }
    },
    {
      "cell_type": "markdown",
      "source": [
        "**Method 1: NER with spaCy**"
      ],
      "metadata": {
        "id": "GubA6_QYPzRX"
      }
    },
    {
      "cell_type": "code",
      "source": [
        "# Sample text with various named entities\n",
        "text = \"\"\"\n",
        "Apple Inc. was founded by Steve Jobs, Steve Wozniak, and Ronald Wayne in April 1976\n",
        "in Cupertino, California. The company went public on December 12, 1980.\n",
        "Today, Apple is worth over $2 trillion and employs more than 150,000 people worldwide.\n",
        "Tim Cook became CEO in 2011, succeeding Steve Jobs.\n",
        "\"\"\"\n",
        "\n",
        "# Process with spaCy\n",
        "doc = nlp(text)\n",
        "\n",
        "# Extract named entities\n",
        "print(\"Named Entities Found:\")\n",
        "print(\"-\" * 60)\n",
        "print(f\"{'Entity':<20} {'Label':<12} {'Description'}\")\n",
        "print(\"-\" * 60)\n",
        "\n",
        "for ent in doc.ents:\n",
        "    print(f\"{ent.text:<20} {ent.label_:<12} {spacy.explain(ent.label_)}\")"
      ],
      "metadata": {
        "colab": {
          "base_uri": "https://localhost:8080/"
        },
        "id": "ci_baWjCP0y4",
        "outputId": "d6f39919-9453-4c84-924b-fb5bda2ceae0"
      },
      "execution_count": 13,
      "outputs": [
        {
          "output_type": "stream",
          "name": "stdout",
          "text": [
            "Named Entities Found:\n",
            "------------------------------------------------------------\n",
            "Entity               Label        Description\n",
            "------------------------------------------------------------\n",
            "Apple Inc.           ORG          Companies, agencies, institutions, etc.\n",
            "Steve Jobs           PERSON       People, including fictional\n",
            "Steve Wozniak        PERSON       People, including fictional\n",
            "Ronald Wayne         PERSON       People, including fictional\n",
            "April 1976           DATE         Absolute or relative dates or periods\n",
            "Cupertino            GPE          Countries, cities, states\n",
            "California           GPE          Countries, cities, states\n",
            "December 12, 1980    DATE         Absolute or relative dates or periods\n",
            "Today                DATE         Absolute or relative dates or periods\n",
            "Apple                ORG          Companies, agencies, institutions, etc.\n",
            "over $2 trillion     MONEY        Monetary values, including unit\n",
            "more than 150,000    CARDINAL     Numerals that do not fall under another type\n",
            "Tim Cook             PERSON       People, including fictional\n",
            "2011                 DATE         Absolute or relative dates or periods\n",
            "Steve Jobs           PERSON       People, including fictional\n"
          ]
        }
      ]
    },
    {
      "cell_type": "markdown",
      "source": [
        "**Method 2: Detailed NER Analysis**"
      ],
      "metadata": {
        "id": "ik223-uyP3vX"
      }
    },
    {
      "cell_type": "code",
      "source": [
        "def analyze_entities(text):\n",
        "    doc = nlp(text)\n",
        "\n",
        "    # Group entities by type\n",
        "    entity_dict = {}\n",
        "    for ent in doc.ents:\n",
        "        if ent.label_ not in entity_dict:\n",
        "            entity_dict[ent.label_] = []\n",
        "        entity_dict[ent.label_].append(ent.text)\n",
        "\n",
        "    print(\"Entities grouped by type:\")\n",
        "    print(\"-\" * 40)\n",
        "    for label, entities in entity_dict.items():\n",
        "        print(f\"{label} ({spacy.explain(label)}): {entities}\")\n",
        "\n",
        "    return entity_dict\n",
        "\n",
        "entity_analysis = analyze_entities(text)"
      ],
      "metadata": {
        "colab": {
          "base_uri": "https://localhost:8080/"
        },
        "id": "sWFHbmyHP5ZZ",
        "outputId": "04383197-8a3a-4223-f8ca-b91c43f78637"
      },
      "execution_count": 14,
      "outputs": [
        {
          "output_type": "stream",
          "name": "stdout",
          "text": [
            "Entities grouped by type:\n",
            "----------------------------------------\n",
            "ORG (Companies, agencies, institutions, etc.): ['Apple Inc.', 'Apple']\n",
            "PERSON (People, including fictional): ['Steve Jobs', 'Steve Wozniak', 'Ronald Wayne', 'Tim Cook', 'Steve Jobs']\n",
            "DATE (Absolute or relative dates or periods): ['April 1976', 'December 12, 1980', 'Today', '2011']\n",
            "GPE (Countries, cities, states): ['Cupertino', 'California']\n",
            "MONEY (Monetary values, including unit): ['over $2 trillion']\n",
            "CARDINAL (Numerals that do not fall under another type): ['more than 150,000']\n"
          ]
        }
      ]
    },
    {
      "cell_type": "markdown",
      "source": [
        "**NER Analysis Benefits:**\n",
        "\n",
        "Information Extraction: Automatically identifies key information\n",
        "\n",
        "Knowledge Graph Construction: Enables relationship mapping\n",
        "\n",
        "Data Organization: Categorizes entities for structured analysis\n",
        "\n",
        "Semantic Understanding: Provides context about text content"
      ],
      "metadata": {
        "id": "Jr-hBYtOP7uK"
      }
    },
    {
      "cell_type": "markdown",
      "source": [
        "**Method 3: Batch NER Processing**"
      ],
      "metadata": {
        "id": "JQLm2kFmQAtU"
      }
    },
    {
      "cell_type": "code",
      "source": [
        "sample_texts = [\n",
        "    \"Barack Obama was the 44th President of the United States from 2009 to 2017.\",\n",
        "    \"Google was founded by Larry Page and Sergey Brin in September 1998 in California.\",\n",
        "    \"The meeting is scheduled for next Monday at 3:00 PM in New York.\",\n",
        "    \"Microsoft acquired LinkedIn for $26.2 billion in June 2016.\"\n",
        "]\n",
        "\n",
        "for i, text in enumerate(sample_texts, 1):\n",
        "    print(f\"\\nText {i}: {text}\")\n",
        "    doc = nlp(text)\n",
        "\n",
        "    entities = [(ent.text, ent.label_) for ent in doc.ents]\n",
        "    if entities:\n",
        "        print(\"Entities:\", entities)\n",
        "    else:\n",
        "        print(\"No entities found\")"
      ],
      "metadata": {
        "colab": {
          "base_uri": "https://localhost:8080/"
        },
        "id": "la8VLP1KQC7t",
        "outputId": "e3e9b070-5ffc-40d5-eba3-a5786cae9601"
      },
      "execution_count": 15,
      "outputs": [
        {
          "output_type": "stream",
          "name": "stdout",
          "text": [
            "\n",
            "Text 1: Barack Obama was the 44th President of the United States from 2009 to 2017.\n",
            "Entities: [('Barack Obama', 'PERSON'), ('44th', 'ORDINAL'), ('the United States', 'GPE'), ('2009', 'DATE')]\n",
            "\n",
            "Text 2: Google was founded by Larry Page and Sergey Brin in September 1998 in California.\n",
            "Entities: [('Google', 'ORG'), ('Larry Page', 'PERSON'), ('Sergey Brin', 'PERSON'), ('September 1998', 'DATE'), ('California', 'GPE')]\n",
            "\n",
            "Text 3: The meeting is scheduled for next Monday at 3:00 PM in New York.\n",
            "Entities: [('next Monday', 'DATE'), ('3:00 PM', 'TIME'), ('New York', 'GPE')]\n",
            "\n",
            "Text 4: Microsoft acquired LinkedIn for $26.2 billion in June 2016.\n",
            "Entities: [('Microsoft', 'ORG'), ('LinkedIn', 'ORG'), ('$26.2 billion', 'MONEY'), ('June 2016', 'DATE')]\n"
          ]
        }
      ]
    },
    {
      "cell_type": "markdown",
      "source": [
        "# **Complete Pipeline Demonstration**\n",
        "**Pipeline Order Importance**\n",
        "The order of preprocessing steps matters:\n",
        "\n",
        "Tokenization: Break text into tokens\n",
        "\n",
        "Stop Word Removal: Remove low-information words\n",
        "\n",
        "POS Tagging: Identify grammatical roles\n",
        "\n",
        "Lemmatization/Stemming: Normalize word forms\n",
        "\n",
        "Named Entity Recognition: Identify important entities"
      ],
      "metadata": {
        "id": "-RtMYu3uQ2Iy"
      }
    },
    {
      "cell_type": "markdown",
      "source": [
        "# **Complete Pipeline Function**"
      ],
      "metadata": {
        "id": "U95zp7dAQ_ot"
      }
    },
    {
      "cell_type": "code",
      "source": [
        "def complete_nlp_pipeline(text, use_lemmatization=True):\n",
        "    \"\"\"\n",
        "    Complete NLP preprocessing pipeline\n",
        "\n",
        "    Args:\n",
        "        text (str): Input text to process\n",
        "        use_lemmatization (bool): Use lemmatization if True, stemming if False\n",
        "\n",
        "    Returns:\n",
        "        dict: Results from each preprocessing step\n",
        "    \"\"\"\n",
        "\n",
        "    results = {'original_text': text}\n",
        "\n",
        "    print(f\"Original Text: {text}\")\n",
        "    print(\"-\" * 80)\n",
        "\n",
        "    # Step 1: Tokenization\n",
        "    tokens = word_tokenize(text)\n",
        "    results['tokens'] = tokens\n",
        "    print(f\"1. Tokenization: {tokens}\")\n",
        "\n",
        "    # Step 2: Stop Word Removal\n",
        "    stop_words = set(stopwords.words('english'))\n",
        "    filtered_tokens = [word for word in tokens if word.lower() not in stop_words and word.isalpha()]\n",
        "    results['filtered_tokens'] = filtered_tokens\n",
        "    print(f\"2. After Stop Word Removal: {filtered_tokens}\")\n",
        "\n",
        "    # Step 3: POS Tagging\n",
        "    pos_tags = pos_tag(filtered_tokens)\n",
        "    results['pos_tags'] = pos_tags\n",
        "    print(f\"3. POS Tags: {pos_tags}\")\n",
        "\n",
        "    # Step 4: Lemmatization or Stemming\n",
        "    if use_lemmatization:\n",
        "        processed_words = []\n",
        "        for word in filtered_tokens:\n",
        "            doc = nlp(word)\n",
        "            processed_words.append(doc[0].lemma_)\n",
        "        results['lemmatized'] = processed_words\n",
        "        print(f\"4. Lemmatized: {processed_words}\")\n",
        "    else:\n",
        "        stemmer = PorterStemmer()\n",
        "        stemmed_words = [stemmer.stem(word) for word in filtered_tokens]\n",
        "        results['stemmed'] = stemmed_words\n",
        "        print(f\"4. Stemmed: {stemmed_words}\")\n",
        "\n",
        "    # Step 5: Named Entity Recognition (on original text)\n",
        "    doc = nlp(text)\n",
        "    entities = [(ent.text, ent.label_) for ent in doc.ents]\n",
        "    results['entities'] = entities\n",
        "    print(f\"5. Named Entities: {entities}\")\n",
        "\n",
        "    return results\n",
        "\n",
        "# Example usage\n",
        "sample_text = \"Apple Inc. was founded by Steve Jobs in California. The company develops innovative products and services.\"\n",
        "\n",
        "print(\"Using Lemmatization:\")\n",
        "results_lemma = complete_nlp_pipeline(sample_text, use_lemmatization=True)\n",
        "\n",
        "print(\"\\nUsing Stemming:\")\n",
        "results_stem = complete_nlp_pipeline(sample_text, use_lemmatization=False)"
      ],
      "metadata": {
        "colab": {
          "base_uri": "https://localhost:8080/"
        },
        "id": "oSgRDQIPRBqf",
        "outputId": "08b62bb6-197d-4291-f29d-efe588a5f9be"
      },
      "execution_count": 16,
      "outputs": [
        {
          "output_type": "stream",
          "name": "stdout",
          "text": [
            "Using Lemmatization:\n",
            "Original Text: Apple Inc. was founded by Steve Jobs in California. The company develops innovative products and services.\n",
            "--------------------------------------------------------------------------------\n",
            "1. Tokenization: ['Apple', 'Inc.', 'was', 'founded', 'by', 'Steve', 'Jobs', 'in', 'California', '.', 'The', 'company', 'develops', 'innovative', 'products', 'and', 'services', '.']\n",
            "2. After Stop Word Removal: ['Apple', 'founded', 'Steve', 'Jobs', 'California', 'company', 'develops', 'innovative', 'products', 'services']\n",
            "3. POS Tags: [('Apple', 'NNP'), ('founded', 'VBD'), ('Steve', 'NNP'), ('Jobs', 'NNP'), ('California', 'NNP'), ('company', 'NN'), ('develops', 'VBZ'), ('innovative', 'JJ'), ('products', 'NNS'), ('services', 'NNS')]\n",
            "4. Lemmatized: ['apple', 'found', 'Steve', 'job', 'California', 'company', 'develop', 'innovative', 'product', 'service']\n",
            "5. Named Entities: [('Apple Inc.', 'ORG'), ('Steve Jobs', 'PERSON'), ('California', 'GPE')]\n",
            "\n",
            "Using Stemming:\n",
            "Original Text: Apple Inc. was founded by Steve Jobs in California. The company develops innovative products and services.\n",
            "--------------------------------------------------------------------------------\n",
            "1. Tokenization: ['Apple', 'Inc.', 'was', 'founded', 'by', 'Steve', 'Jobs', 'in', 'California', '.', 'The', 'company', 'develops', 'innovative', 'products', 'and', 'services', '.']\n",
            "2. After Stop Word Removal: ['Apple', 'founded', 'Steve', 'Jobs', 'California', 'company', 'develops', 'innovative', 'products', 'services']\n",
            "3. POS Tags: [('Apple', 'NNP'), ('founded', 'VBD'), ('Steve', 'NNP'), ('Jobs', 'NNP'), ('California', 'NNP'), ('company', 'NN'), ('develops', 'VBZ'), ('innovative', 'JJ'), ('products', 'NNS'), ('services', 'NNS')]\n",
            "4. Stemmed: ['appl', 'found', 'steve', 'job', 'california', 'compani', 'develop', 'innov', 'product', 'servic']\n",
            "5. Named Entities: [('Apple Inc.', 'ORG'), ('Steve Jobs', 'PERSON'), ('California', 'GPE')]\n"
          ]
        }
      ]
    },
    {
      "cell_type": "markdown",
      "source": [
        "# **POS Distribution Analysis**"
      ],
      "metadata": {
        "id": "kRZn-yjpRLPx"
      }
    },
    {
      "cell_type": "code",
      "source": [
        "def analyze_pos_distribution(text):\n",
        "    doc = nlp(text)\n",
        "\n",
        "    # Count POS frequencies\n",
        "    pos_counts = Counter([token.pos_ for token in doc if token.is_alpha])\n",
        "\n",
        "    print(f\"\\nPOS Distribution for: {text}\")\n",
        "    print(\"-\" * 50)\n",
        "    for pos, count in pos_counts.most_common():\n",
        "        print(f\"{pos}: {count}\")\n",
        "\n",
        "    return pos_counts\n",
        "\n",
        "# Analyze sample text\n",
        "sample_text = \"\"\"\n",
        "Natural language processing is a fascinating field of artificial intelligence\n",
        "that focuses on the interaction between computers and human language. It involves\n",
        "developing algorithms and models that can understand, interpret, and generate\n",
        "human language in a meaningful way. Applications include machine translation,\n",
        "sentiment analysis, chatbots, and voice assistants.\n",
        "\"\"\"\n",
        "\n",
        "pos_distribution = analyze_pos_distribution(sample_text)"
      ],
      "metadata": {
        "colab": {
          "base_uri": "https://localhost:8080/"
        },
        "id": "u3Sghwm0RNnh",
        "outputId": "7e4be2ca-3794-429c-a085-928f4d57fdbd"
      },
      "execution_count": 17,
      "outputs": [
        {
          "output_type": "stream",
          "name": "stdout",
          "text": [
            "\n",
            "POS Distribution for: \n",
            "Natural language processing is a fascinating field of artificial intelligence\n",
            "that focuses on the interaction between computers and human language. It involves\n",
            "developing algorithms and models that can understand, interpret, and generate\n",
            "human language in a meaningful way. Applications include machine translation,\n",
            "sentiment analysis, chatbots, and voice assistants.\n",
            "\n",
            "--------------------------------------------------\n",
            "NOUN: 19\n",
            "VERB: 7\n",
            "ADJ: 6\n",
            "ADP: 4\n",
            "CCONJ: 4\n",
            "DET: 3\n",
            "PRON: 3\n",
            "AUX: 2\n"
          ]
        }
      ]
    },
    {
      "cell_type": "markdown",
      "source": [
        "# **Best Practices and Summary**\n",
        "# **Key Learning Points**\n",
        "1. Tokenization\n",
        "\n",
        "Modern tokenization: Uses advanced techniques like Byte Pair Encoding (BPE)\n",
        "Subword tokenization: Helps handle out-of-vocabulary words effectively\n",
        "Token IDs: Numerical representations that models can process\n",
        "Context preservation: Maintains semantic relationships\n",
        "\n",
        "2. Stop Word Removal\n",
        "\n",
        "Essential preprocessing: Removes common, low-information words\n",
        "Content focus: Improves focus on meaningful content in text analysis\n",
        "Case-insensitive matching: Ensures comprehensive removal\n",
        "Domain considerations: Some applications may need certain stop words\n",
        "\n",
        "3. POS Tagging\n",
        "\n",
        "Grammatical categorization: Assigns grammatical categories to words in context\n",
        "Context dependency: Different taggers may produce different results for ambiguous cases\n",
        "Universal tags: Provide language-independent categorization\n",
        "Feature extraction: Creates features for downstream tasks\n",
        "\n",
        "4. Lemmatization vs Stemming\n",
        "\n",
        "Stemming: Faster but less accurate, using rule-based suffix removal\n",
        "Lemmatization: More sophisticated, considering context and part-of-speech\n",
        "Word validity: Lemmatization always produces valid base words\n",
        "Accuracy trade-off: Lemmatization is generally preferred for accuracy\n",
        "\n",
        "5. Named Entity Recognition\n",
        "\n",
        "Information extraction: Identifies and classifies named entities in predefined categories\n",
        "Knowledge construction: Crucial for information extraction and knowledge graph construction\n",
        "Context requirement: Works best with complete, grammatically correct sentences\n",
        "Domain adaptation: May require fine-tuning for specific domains\n"
      ],
      "metadata": {
        "id": "jAgzzX7jRSlb"
      }
    }
  ]
}