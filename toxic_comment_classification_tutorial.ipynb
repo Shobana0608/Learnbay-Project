{
  "cells": [
    {
      "cell_type": "markdown",
      "metadata": {
        "id": "view-in-github",
        "colab_type": "text"
      },
      "source": [
        "<a href=\"https://colab.research.google.com/github/Shobana0608/Learnbay-Project/blob/main/toxic_comment_classification_tutorial.ipynb\" target=\"_parent\"><img src=\"https://colab.research.google.com/assets/colab-badge.svg\" alt=\"Open In Colab\"/></a>"
      ]
    },
    {
      "cell_type": "markdown",
      "id": "4577174f",
      "metadata": {
        "id": "4577174f"
      },
      "source": [
        "# Toxic Comment Classification Tutorial\n",
        "\n",
        "Welcome to this tutorial on toxic comment classification. In today's digital world, online platforms such as forums, social media, and comment sections are essential for communication and community building. However, these platforms can also become breeding grounds for toxic, abusive, or harmful comments.\n",
        "\n",
        "**Toxic comment classification** is the task of automatically identifying and flagging comments that contain hate speech, insults, threats, or other forms of toxicity. This is crucial for:\n",
        "- **Content moderation:** Helping platforms automatically detect and remove harmful content.\n",
        "- **Safer communities:** Protecting users from harassment and abuse.\n",
        "- **User engagement:** Encouraging positive interactions and reducing churn due to negative experiences.\n",
        "\n",
        "In this tutorial, we will walk through the process of building a toxic comment classifier using a real-world dataset. We will cover data exploration, preprocessing, feature extraction, model training, evaluation, and discuss practical applications."
      ]
    },
    {
      "cell_type": "markdown",
      "id": "de6130ea",
      "metadata": {
        "id": "de6130ea"
      },
      "source": [
        "## Importing Necessary Libraries\n",
        "\n",
        "Before we begin, let's import the essential Python libraries for this project:\n",
        "- **pandas** and **numpy** for data handling and manipulation\n",
        "- **matplotlib** and **seaborn** for data visualization\n",
        "- **nltk** for natural language processing tasks (tokenization, stopword removal, lemmatization)\n",
        "- **scikit-learn** for machine learning, feature extraction, and evaluation\n",
        "- **datasets** from Hugging Face to easily load the toxic comment dataset\n",
        "\n",
        "If you don't have any of these libraries installed, you can install them using `pip`."
      ]
    },
    {
      "cell_type": "code",
      "execution_count": 1,
      "id": "533b267a",
      "metadata": {
        "id": "533b267a",
        "outputId": "c87441c3-2221-4807-c64c-2275b753bd9b",
        "colab": {
          "base_uri": "https://localhost:8080/"
        }
      },
      "outputs": [
        {
          "output_type": "stream",
          "name": "stderr",
          "text": [
            "[nltk_data] Downloading package punkt_tab to /root/nltk_data...\n",
            "[nltk_data]   Unzipping tokenizers/punkt_tab.zip.\n",
            "[nltk_data] Downloading package punkt to /root/nltk_data...\n",
            "[nltk_data]   Unzipping tokenizers/punkt.zip.\n"
          ]
        },
        {
          "output_type": "stream",
          "name": "stdout",
          "text": [
            "All libraries imported successfully!\n"
          ]
        },
        {
          "output_type": "stream",
          "name": "stderr",
          "text": [
            "[nltk_data] Downloading package stopwords to /root/nltk_data...\n",
            "[nltk_data]   Unzipping corpora/stopwords.zip.\n",
            "[nltk_data] Downloading package wordnet to /root/nltk_data...\n"
          ]
        }
      ],
      "source": [
        "# Import required libraries\n",
        "import pandas as pd\n",
        "import numpy as np\n",
        "import matplotlib.pyplot as plt\n",
        "import seaborn as sns\n",
        "import nltk\n",
        "from sklearn.model_selection import train_test_split\n",
        "from sklearn.feature_extraction.text import TfidfVectorizer\n",
        "from sklearn.linear_model import LogisticRegression\n",
        "from sklearn.metrics import accuracy_score, precision_score, recall_score, f1_score, confusion_matrix, roc_auc_score, roc_curve\n",
        "import string\n",
        "import re\n",
        "from nltk.corpus import stopwords\n",
        "from nltk.stem import WordNetLemmatizer\n",
        "\n",
        "# Download NLTK resources if not already present\n",
        "try:\n",
        "    nltk.data.find('tokenizers/punkt_tab')\n",
        "except LookupError:\n",
        "    nltk.download('punkt_tab')\n",
        "\n",
        "try:\n",
        "    nltk.data.find('tokenizers/punkt')\n",
        "except LookupError:\n",
        "    nltk.download('punkt')\n",
        "\n",
        "try:\n",
        "    nltk.data.find('corpora/stopwords')\n",
        "except LookupError:\n",
        "    nltk.download('stopwords')\n",
        "\n",
        "try:\n",
        "    nltk.data.find('corpora/wordnet')\n",
        "except LookupError:\n",
        "    nltk.download('wordnet')\n",
        "\n",
        "print(\"All libraries imported successfully!\")"
      ]
    },
    {
      "cell_type": "markdown",
      "id": "902cbba9",
      "metadata": {
        "id": "902cbba9"
      },
      "source": [
        "## Loading the Toxic Comment Dataset\n",
        "\n",
        "We will use a publicly available toxic comment dataset. For this tutorial, we'll create a sample dataset to demonstrate the concepts. In a real-world scenario, you could use the Jigsaw Toxic Comment Classification dataset from Kaggle or other public sources.\n",
        "\n",
        "The dataset will have a `comment_text` column (the comment itself) and a `toxic` column (1 for toxic, 0 for non-toxic). Let's create a sample dataset and take a quick look at its structure."
      ]
    },
    {
      "cell_type": "code",
      "execution_count": null,
      "id": "00d381fa",
      "metadata": {
        "id": "00d381fa",
        "outputId": "3c89fff8-af00-458b-a0d2-72aa2bb26bcf",
        "colab": {
          "base_uri": "https://localhost:8080/",
          "height": 380
        }
      },
      "outputs": [
        {
          "output_type": "stream",
          "name": "stdout",
          "text": [
            "Sample of the dataset:\n"
          ]
        },
        {
          "output_type": "execute_result",
          "data": {
            "text/plain": [
              "                                        comment_text  toxic\n",
              "0       This is a great article, thanks for sharing!      0\n",
              "1     I completely disagree with your point of view.      0\n",
              "2               You are absolutely wrong and stupid!      1\n",
              "3                        Nice work on this analysis.      0\n",
              "4    This is terrible content, you should delete it.      1\n",
              "5         I found this very helpful and informative.      0\n",
              "6             What a waste of time, this is garbage!      1\n",
              "7                 Excellent explanation, very clear.      0\n",
              "8  You have no idea what you are talking about, i...      1\n",
              "9                 Thanks for the detailed breakdown.      0"
            ],
            "text/html": [
              "\n",
              "  <div id=\"df-70f670fd-72f3-48c9-b31d-3d8794f34982\" class=\"colab-df-container\">\n",
              "    <div>\n",
              "<style scoped>\n",
              "    .dataframe tbody tr th:only-of-type {\n",
              "        vertical-align: middle;\n",
              "    }\n",
              "\n",
              "    .dataframe tbody tr th {\n",
              "        vertical-align: top;\n",
              "    }\n",
              "\n",
              "    .dataframe thead th {\n",
              "        text-align: right;\n",
              "    }\n",
              "</style>\n",
              "<table border=\"1\" class=\"dataframe\">\n",
              "  <thead>\n",
              "    <tr style=\"text-align: right;\">\n",
              "      <th></th>\n",
              "      <th>comment_text</th>\n",
              "      <th>toxic</th>\n",
              "    </tr>\n",
              "  </thead>\n",
              "  <tbody>\n",
              "    <tr>\n",
              "      <th>0</th>\n",
              "      <td>This is a great article, thanks for sharing!</td>\n",
              "      <td>0</td>\n",
              "    </tr>\n",
              "    <tr>\n",
              "      <th>1</th>\n",
              "      <td>I completely disagree with your point of view.</td>\n",
              "      <td>0</td>\n",
              "    </tr>\n",
              "    <tr>\n",
              "      <th>2</th>\n",
              "      <td>You are absolutely wrong and stupid!</td>\n",
              "      <td>1</td>\n",
              "    </tr>\n",
              "    <tr>\n",
              "      <th>3</th>\n",
              "      <td>Nice work on this analysis.</td>\n",
              "      <td>0</td>\n",
              "    </tr>\n",
              "    <tr>\n",
              "      <th>4</th>\n",
              "      <td>This is terrible content, you should delete it.</td>\n",
              "      <td>1</td>\n",
              "    </tr>\n",
              "    <tr>\n",
              "      <th>5</th>\n",
              "      <td>I found this very helpful and informative.</td>\n",
              "      <td>0</td>\n",
              "    </tr>\n",
              "    <tr>\n",
              "      <th>6</th>\n",
              "      <td>What a waste of time, this is garbage!</td>\n",
              "      <td>1</td>\n",
              "    </tr>\n",
              "    <tr>\n",
              "      <th>7</th>\n",
              "      <td>Excellent explanation, very clear.</td>\n",
              "      <td>0</td>\n",
              "    </tr>\n",
              "    <tr>\n",
              "      <th>8</th>\n",
              "      <td>You have no idea what you are talking about, i...</td>\n",
              "      <td>1</td>\n",
              "    </tr>\n",
              "    <tr>\n",
              "      <th>9</th>\n",
              "      <td>Thanks for the detailed breakdown.</td>\n",
              "      <td>0</td>\n",
              "    </tr>\n",
              "  </tbody>\n",
              "</table>\n",
              "</div>\n",
              "    <div class=\"colab-df-buttons\">\n",
              "\n",
              "  <div class=\"colab-df-container\">\n",
              "    <button class=\"colab-df-convert\" onclick=\"convertToInteractive('df-70f670fd-72f3-48c9-b31d-3d8794f34982')\"\n",
              "            title=\"Convert this dataframe to an interactive table.\"\n",
              "            style=\"display:none;\">\n",
              "\n",
              "  <svg xmlns=\"http://www.w3.org/2000/svg\" height=\"24px\" viewBox=\"0 -960 960 960\">\n",
              "    <path d=\"M120-120v-720h720v720H120Zm60-500h600v-160H180v160Zm220 220h160v-160H400v160Zm0 220h160v-160H400v160ZM180-400h160v-160H180v160Zm440 0h160v-160H620v160ZM180-180h160v-160H180v160Zm440 0h160v-160H620v160Z\"/>\n",
              "  </svg>\n",
              "    </button>\n",
              "\n",
              "  <style>\n",
              "    .colab-df-container {\n",
              "      display:flex;\n",
              "      gap: 12px;\n",
              "    }\n",
              "\n",
              "    .colab-df-convert {\n",
              "      background-color: #E8F0FE;\n",
              "      border: none;\n",
              "      border-radius: 50%;\n",
              "      cursor: pointer;\n",
              "      display: none;\n",
              "      fill: #1967D2;\n",
              "      height: 32px;\n",
              "      padding: 0 0 0 0;\n",
              "      width: 32px;\n",
              "    }\n",
              "\n",
              "    .colab-df-convert:hover {\n",
              "      background-color: #E2EBFA;\n",
              "      box-shadow: 0px 1px 2px rgba(60, 64, 67, 0.3), 0px 1px 3px 1px rgba(60, 64, 67, 0.15);\n",
              "      fill: #174EA6;\n",
              "    }\n",
              "\n",
              "    .colab-df-buttons div {\n",
              "      margin-bottom: 4px;\n",
              "    }\n",
              "\n",
              "    [theme=dark] .colab-df-convert {\n",
              "      background-color: #3B4455;\n",
              "      fill: #D2E3FC;\n",
              "    }\n",
              "\n",
              "    [theme=dark] .colab-df-convert:hover {\n",
              "      background-color: #434B5C;\n",
              "      box-shadow: 0px 1px 3px 1px rgba(0, 0, 0, 0.15);\n",
              "      filter: drop-shadow(0px 1px 2px rgba(0, 0, 0, 0.3));\n",
              "      fill: #FFFFFF;\n",
              "    }\n",
              "  </style>\n",
              "\n",
              "    <script>\n",
              "      const buttonEl =\n",
              "        document.querySelector('#df-70f670fd-72f3-48c9-b31d-3d8794f34982 button.colab-df-convert');\n",
              "      buttonEl.style.display =\n",
              "        google.colab.kernel.accessAllowed ? 'block' : 'none';\n",
              "\n",
              "      async function convertToInteractive(key) {\n",
              "        const element = document.querySelector('#df-70f670fd-72f3-48c9-b31d-3d8794f34982');\n",
              "        const dataTable =\n",
              "          await google.colab.kernel.invokeFunction('convertToInteractive',\n",
              "                                                    [key], {});\n",
              "        if (!dataTable) return;\n",
              "\n",
              "        const docLinkHtml = 'Like what you see? Visit the ' +\n",
              "          '<a target=\"_blank\" href=https://colab.research.google.com/notebooks/data_table.ipynb>data table notebook</a>'\n",
              "          + ' to learn more about interactive tables.';\n",
              "        element.innerHTML = '';\n",
              "        dataTable['output_type'] = 'display_data';\n",
              "        await google.colab.output.renderOutput(dataTable, element);\n",
              "        const docLink = document.createElement('div');\n",
              "        docLink.innerHTML = docLinkHtml;\n",
              "        element.appendChild(docLink);\n",
              "      }\n",
              "    </script>\n",
              "  </div>\n",
              "\n",
              "\n",
              "    <div id=\"df-d9a4d185-c698-48ef-9a74-c6295c9f02c6\">\n",
              "      <button class=\"colab-df-quickchart\" onclick=\"quickchart('df-d9a4d185-c698-48ef-9a74-c6295c9f02c6')\"\n",
              "                title=\"Suggest charts\"\n",
              "                style=\"display:none;\">\n",
              "\n",
              "<svg xmlns=\"http://www.w3.org/2000/svg\" height=\"24px\"viewBox=\"0 0 24 24\"\n",
              "     width=\"24px\">\n",
              "    <g>\n",
              "        <path d=\"M19 3H5c-1.1 0-2 .9-2 2v14c0 1.1.9 2 2 2h14c1.1 0 2-.9 2-2V5c0-1.1-.9-2-2-2zM9 17H7v-7h2v7zm4 0h-2V7h2v10zm4 0h-2v-4h2v4z\"/>\n",
              "    </g>\n",
              "</svg>\n",
              "      </button>\n",
              "\n",
              "<style>\n",
              "  .colab-df-quickchart {\n",
              "      --bg-color: #E8F0FE;\n",
              "      --fill-color: #1967D2;\n",
              "      --hover-bg-color: #E2EBFA;\n",
              "      --hover-fill-color: #174EA6;\n",
              "      --disabled-fill-color: #AAA;\n",
              "      --disabled-bg-color: #DDD;\n",
              "  }\n",
              "\n",
              "  [theme=dark] .colab-df-quickchart {\n",
              "      --bg-color: #3B4455;\n",
              "      --fill-color: #D2E3FC;\n",
              "      --hover-bg-color: #434B5C;\n",
              "      --hover-fill-color: #FFFFFF;\n",
              "      --disabled-bg-color: #3B4455;\n",
              "      --disabled-fill-color: #666;\n",
              "  }\n",
              "\n",
              "  .colab-df-quickchart {\n",
              "    background-color: var(--bg-color);\n",
              "    border: none;\n",
              "    border-radius: 50%;\n",
              "    cursor: pointer;\n",
              "    display: none;\n",
              "    fill: var(--fill-color);\n",
              "    height: 32px;\n",
              "    padding: 0;\n",
              "    width: 32px;\n",
              "  }\n",
              "\n",
              "  .colab-df-quickchart:hover {\n",
              "    background-color: var(--hover-bg-color);\n",
              "    box-shadow: 0 1px 2px rgba(60, 64, 67, 0.3), 0 1px 3px 1px rgba(60, 64, 67, 0.15);\n",
              "    fill: var(--button-hover-fill-color);\n",
              "  }\n",
              "\n",
              "  .colab-df-quickchart-complete:disabled,\n",
              "  .colab-df-quickchart-complete:disabled:hover {\n",
              "    background-color: var(--disabled-bg-color);\n",
              "    fill: var(--disabled-fill-color);\n",
              "    box-shadow: none;\n",
              "  }\n",
              "\n",
              "  .colab-df-spinner {\n",
              "    border: 2px solid var(--fill-color);\n",
              "    border-color: transparent;\n",
              "    border-bottom-color: var(--fill-color);\n",
              "    animation:\n",
              "      spin 1s steps(1) infinite;\n",
              "  }\n",
              "\n",
              "  @keyframes spin {\n",
              "    0% {\n",
              "      border-color: transparent;\n",
              "      border-bottom-color: var(--fill-color);\n",
              "      border-left-color: var(--fill-color);\n",
              "    }\n",
              "    20% {\n",
              "      border-color: transparent;\n",
              "      border-left-color: var(--fill-color);\n",
              "      border-top-color: var(--fill-color);\n",
              "    }\n",
              "    30% {\n",
              "      border-color: transparent;\n",
              "      border-left-color: var(--fill-color);\n",
              "      border-top-color: var(--fill-color);\n",
              "      border-right-color: var(--fill-color);\n",
              "    }\n",
              "    40% {\n",
              "      border-color: transparent;\n",
              "      border-right-color: var(--fill-color);\n",
              "      border-top-color: var(--fill-color);\n",
              "    }\n",
              "    60% {\n",
              "      border-color: transparent;\n",
              "      border-right-color: var(--fill-color);\n",
              "    }\n",
              "    80% {\n",
              "      border-color: transparent;\n",
              "      border-right-color: var(--fill-color);\n",
              "      border-bottom-color: var(--fill-color);\n",
              "    }\n",
              "    90% {\n",
              "      border-color: transparent;\n",
              "      border-bottom-color: var(--fill-color);\n",
              "    }\n",
              "  }\n",
              "</style>\n",
              "\n",
              "      <script>\n",
              "        async function quickchart(key) {\n",
              "          const quickchartButtonEl =\n",
              "            document.querySelector('#' + key + ' button');\n",
              "          quickchartButtonEl.disabled = true;  // To prevent multiple clicks.\n",
              "          quickchartButtonEl.classList.add('colab-df-spinner');\n",
              "          try {\n",
              "            const charts = await google.colab.kernel.invokeFunction(\n",
              "                'suggestCharts', [key], {});\n",
              "          } catch (error) {\n",
              "            console.error('Error during call to suggestCharts:', error);\n",
              "          }\n",
              "          quickchartButtonEl.classList.remove('colab-df-spinner');\n",
              "          quickchartButtonEl.classList.add('colab-df-quickchart-complete');\n",
              "        }\n",
              "        (() => {\n",
              "          let quickchartButtonEl =\n",
              "            document.querySelector('#df-d9a4d185-c698-48ef-9a74-c6295c9f02c6 button');\n",
              "          quickchartButtonEl.style.display =\n",
              "            google.colab.kernel.accessAllowed ? 'block' : 'none';\n",
              "        })();\n",
              "      </script>\n",
              "    </div>\n",
              "\n",
              "    </div>\n",
              "  </div>\n"
            ],
            "application/vnd.google.colaboratory.intrinsic+json": {
              "type": "dataframe",
              "summary": "{\n  \"name\": \"df[['comment_text', 'toxic']]\",\n  \"rows\": 10,\n  \"fields\": [\n    {\n      \"column\": \"comment_text\",\n      \"properties\": {\n        \"dtype\": \"string\",\n        \"num_unique_values\": 10,\n        \"samples\": [\n          \"You have no idea what you are talking about, idiot!\",\n          \"I completely disagree with your point of view.\",\n          \"I found this very helpful and informative.\"\n        ],\n        \"semantic_type\": \"\",\n        \"description\": \"\"\n      }\n    },\n    {\n      \"column\": \"toxic\",\n      \"properties\": {\n        \"dtype\": \"number\",\n        \"std\": 0,\n        \"min\": 0,\n        \"max\": 1,\n        \"num_unique_values\": 2,\n        \"samples\": [\n          1,\n          0\n        ],\n        \"semantic_type\": \"\",\n        \"description\": \"\"\n      }\n    }\n  ]\n}"
            }
          },
          "metadata": {},
          "execution_count": 2
        }
      ],
      "source": [
        "# Create a sample toxic comment dataset for demonstration\n",
        "# In session, you would load a real dataset like the Jigsaw dataset from Kaggle\n",
        "\n",
        "sample_data = {\n",
        "    'comment_text': [\n",
        "        'This is a great article, thanks for sharing!',\n",
        "        'I completely disagree with your point of view.',\n",
        "        'You are absolutely wrong and stupid!',\n",
        "        'Nice work on this analysis.',\n",
        "        'This is terrible content, you should delete it.',\n",
        "        'I found this very helpful and informative.',\n",
        "        'What a waste of time, this is garbage!',\n",
        "        'Excellent explanation, very clear.',\n",
        "        'You have no idea what you are talking about, idiot!',\n",
        "        'Thanks for the detailed breakdown.',\n",
        "        'This is the worst thing I have ever read.',\n",
        "        'Great insights, keep up the good work!',\n",
        "        'You are completely clueless and pathetic.',\n",
        "        'I appreciate the effort you put into this.',\n",
        "        'This is absolutely disgusting and offensive.',\n",
        "        'Well written and thought-provoking.',\n",
        "        'Stop posting this nonsense, you moron!',\n",
        "        'Very interesting perspective on the topic.',\n",
        "        'This makes me sick, how can you write this?',\n",
        "        'Thank you for sharing your knowledge.',\n",
        "        'You should be ashamed of yourself for this trash.',\n",
        "        'Informative and well-researched article.',\n",
        "        'I hate everything about this post.',\n",
        "        'Good job explaining complex concepts simply.',\n",
        "        'This is the stupidest thing ever written.',\n",
        "    ],\n",
        "    'toxic': [0, 0, 1, 0, 1, 0, 1, 0, 1, 0, 1, 0, 1, 0, 1, 0, 1, 0, 1, 0, 1, 0, 1, 0, 1]\n",
        "}\n",
        "\n",
        "df = pd.DataFrame(sample_data)\n",
        "\n",
        "# Display the first few rows\n",
        "print(\"Sample of the dataset:\")\n",
        "df[['comment_text', 'toxic']].head(10)"
      ]
    },
    {
      "cell_type": "markdown",
      "id": "05428860",
      "metadata": {
        "id": "05428860"
      },
      "source": [
        "## Exploratory Data Analysis (EDA)\n",
        "\n",
        "Let's explore the dataset to understand its structure and the distribution of toxic vs. non-toxic comments. We'll:\n",
        "- Check for missing values\n",
        "- Analyze the class distribution\n",
        "- Visualize the number of toxic and non-toxic comments\n",
        "- Display example comments from each class"
      ]
    },
    {
      "cell_type": "code",
      "execution_count": null,
      "id": "32556bd6",
      "metadata": {
        "id": "32556bd6",
        "outputId": "ae6f4777-1bb2-4a43-b2b5-fa1f2df70a6d",
        "colab": {
          "base_uri": "https://localhost:8080/",
          "height": 775
        }
      },
      "outputs": [
        {
          "output_type": "stream",
          "name": "stdout",
          "text": [
            "Missing values in each column:\n",
            "comment_text    0\n",
            "toxic           0\n",
            "dtype: int64\n",
            "\n",
            "Class distribution:\n",
            "toxic\n",
            "0    13\n",
            "1    12\n",
            "Name: count, dtype: int64\n"
          ]
        },
        {
          "output_type": "stream",
          "name": "stderr",
          "text": [
            "/tmp/ipython-input-3862681513.py:12: FutureWarning: \n",
            "\n",
            "Passing `palette` without assigning `hue` is deprecated and will be removed in v0.14.0. Assign the `x` variable to `hue` and set `legend=False` for the same effect.\n",
            "\n",
            "  sns.barplot(x=class_counts.index, y=class_counts.values, palette='viridis')\n"
          ]
        },
        {
          "output_type": "display_data",
          "data": {
            "text/plain": [
              "<Figure size 600x400 with 1 Axes>"
            ],
            "image/png": "[encoded data removed]"
          },
          "metadata": {}
        },
        {
          "output_type": "stream",
          "name": "stdout",
          "text": [
            "\n",
            "Example Non-Toxic Comment:\n",
            "This is a great article, thanks for sharing!\n",
            "\n",
            "Example Toxic Comment:\n",
            "You are absolutely wrong and stupid!\n"
          ]
        }
      ],
      "source": [
        "# Check for missing values\n",
        "print('Missing values in each column:')\n",
        "print(df.isnull().sum())\n",
        "\n",
        "# Class distribution\n",
        "class_counts = df['toxic'].value_counts()\n",
        "print('\\nClass distribution:')\n",
        "print(class_counts)\n",
        "\n",
        "# Visualize class distribution\n",
        "plt.figure(figsize=(6,4))\n",
        "sns.barplot(x=class_counts.index, y=class_counts.values, palette='viridis')\n",
        "plt.xticks([0,1], ['Non-Toxic', 'Toxic'])\n",
        "plt.title('Distribution of Toxic vs. Non-Toxic Comments')\n",
        "plt.ylabel('Number of Comments')\n",
        "plt.xlabel('Class')\n",
        "plt.show()\n",
        "\n",
        "# Show example comments from each class\n",
        "print('\\nExample Non-Toxic Comment:')\n",
        "print(df[df['toxic']==0]['comment_text'].iloc[0])\n",
        "print('\\nExample Toxic Comment:')\n",
        "print(df[df['toxic']==1]['comment_text'].iloc[0])"
      ]
    },
    {
      "cell_type": "markdown",
      "id": "0ae88ba0",
      "metadata": {
        "id": "0ae88ba0"
      },
      "source": [
        "## Preprocessing Text Data\n",
        "\n",
        "Text data must be cleaned and preprocessed before it can be used for machine learning. We'll:\n",
        "- Remove punctuation and special characters\n",
        "- Convert text to lowercase\n",
        "- Tokenize the text (split into words)\n",
        "- Remove stopwords (common words that add little meaning)\n",
        "- Lemmatize words (reduce to their base form)\n",
        "- Split the data into training and test sets\n",
        "\n",
        "Let's define a preprocessing function and apply it to our dataset."
      ]
    },
    {
      "cell_type": "code",
      "execution_count": null,
      "id": "506fbf04",
      "metadata": {
        "id": "506fbf04",
        "outputId": "4327b66b-e7ec-4d23-96cc-8ef57dde6a26",
        "colab": {
          "base_uri": "https://localhost:8080/"
        }
      },
      "outputs": [
        {
          "output_type": "stream",
          "name": "stdout",
          "text": [
            "Training samples: 20\n",
            "Test samples: 5\n"
          ]
        }
      ],
      "source": [
        "# Define text preprocessing function\n",
        "def preprocess_text(text):\n",
        "    # Remove punctuation and special characters\n",
        "    text = re.sub(f'[{re.escape(string.punctuation)}]', '', text)\n",
        "    text = text.lower()\n",
        "    tokens = nltk.word_tokenize(text)\n",
        "    stop_words = set(stopwords.words('english'))\n",
        "    tokens = [w for w in tokens if w not in stop_words]\n",
        "    lemmatizer = WordNetLemmatizer()\n",
        "    tokens = [lemmatizer.lemmatize(w) for w in tokens]\n",
        "    return ' '.join(tokens)\n",
        "\n",
        "# Apply preprocessing (this may take a few minutes)\n",
        "df['clean_text'] = df['comment_text'].apply(preprocess_text)\n",
        "\n",
        "# Split into train and test sets\n",
        "X_train, X_test, y_train, y_test = train_test_split(\n",
        "    df['clean_text'], df['toxic'], test_size=0.2, random_state=42, stratify=df['toxic']\n",
        ")\n",
        "\n",
        "print(f'Training samples: {len(X_train)}')\n",
        "print(f'Test samples: {len(X_test)}')"
      ]
    },
    {
      "cell_type": "markdown",
      "id": "90752c39",
      "metadata": {
        "id": "90752c39"
      },
      "source": [
        "## Converting Text to Numerical Features\n",
        "\n",
        "Machine learning models require numerical input. We'll use the **TF-IDF (Term Frequency-Inverse Document Frequency)** method to convert our cleaned text into numerical feature vectors. TF-IDF reflects how important a word is to a document in a collection, helping the model focus on meaningful words.\n",
        "\n",
        "Let's fit a TF-IDF vectorizer on the training data and transform both the training and test sets."
      ]
    },
    {
      "cell_type": "code",
      "execution_count": null,
      "id": "3de18d38",
      "metadata": {
        "id": "3de18d38",
        "outputId": "88f0e9ab-5dc1-42d9-dcd5-7a4068adc228",
        "colab": {
          "base_uri": "https://localhost:8080/"
        }
      },
      "outputs": [
        {
          "output_type": "stream",
          "name": "stdout",
          "text": [
            "TF-IDF feature matrix shape (train): (20, 61)\n",
            "TF-IDF feature matrix shape (test): (5, 61)\n"
          ]
        }
      ],
      "source": [
        "# Convert text to TF-IDF features\n",
        "vectorizer = TfidfVectorizer(max_features=10000)\n",
        "X_train_tfidf = vectorizer.fit_transform(X_train)\n",
        "X_test_tfidf = vectorizer.transform(X_test)\n",
        "\n",
        "print(f'TF-IDF feature matrix shape (train): {X_train_tfidf.shape}')\n",
        "print(f'TF-IDF feature matrix shape (test): {X_test_tfidf.shape}')"
      ]
    },
    {
      "cell_type": "markdown",
      "id": "72d58d82",
      "metadata": {
        "id": "72d58d82"
      },
      "source": [
        "## Training a Baseline Machine Learning Model\n",
        "\n",
        "Now that our data is ready, let's train a baseline machine learning model. We'll use **Logistic Regression**, a simple yet effective algorithm for binary classification tasks like toxic comment detection.\n",
        "\n",
        "We'll fit the model on the training data and use it to predict the labels for the test set."
      ]
    },
    {
      "cell_type": "code",
      "execution_count": null,
      "id": "2107ba31",
      "metadata": {
        "id": "2107ba31"
      },
      "outputs": [],
      "source": [
        "# Train a Logistic Regression model\n",
        "model = LogisticRegression(max_iter=200)\n",
        "model.fit(X_train_tfidf, y_train)\n",
        "\n",
        "# Predict on the test set\n",
        "y_pred = model.predict(X_test_tfidf)\n",
        "y_proba = model.predict_proba(X_test_tfidf)[:,1]"
      ]
    },
    {
      "cell_type": "markdown",
      "id": "73747688",
      "metadata": {
        "id": "73747688"
      },
      "source": [
        "## Evaluating the Model\n",
        "\n",
        "Let's evaluate our model's performance using several metrics:\n",
        "- **Accuracy:** Overall correctness\n",
        "- **Precision:** How many predicted toxic comments are actually toxic\n",
        "- **Recall:** How many actual toxic comments were correctly identified\n",
        "- **F1-score:** Harmonic mean of precision and recall\n",
        "- **Confusion matrix:** Breakdown of true/false positives/negatives\n",
        "- **ROC-AUC:** Ability to distinguish between classes, especially important for imbalanced datasets\n",
        "\n",
        "We'll compute these metrics and display the results."
      ]
    },
    {
      "cell_type": "code",
      "execution_count": null,
      "id": "c9ac048a",
      "metadata": {
        "id": "c9ac048a",
        "outputId": "ba1bb2dc-a82a-4413-dd77-32dd543c9da1",
        "colab": {
          "base_uri": "https://localhost:8080/"
        }
      },
      "outputs": [
        {
          "output_type": "stream",
          "name": "stdout",
          "text": [
            "Accuracy: 1.0000\n",
            "Precision: 1.0000\n",
            "Recall: 1.0000\n",
            "F1-score: 1.0000\n",
            "ROC-AUC: 1.0000\n",
            "\n",
            "Confusion Matrix:\n",
            "[[3 0]\n",
            " [0 2]]\n"
          ]
        }
      ],
      "source": [
        "# Calculate evaluation metrics\n",
        "acc = accuracy_score(y_test, y_pred)\n",
        "prec = precision_score(y_test, y_pred)\n",
        "rec = recall_score(y_test, y_pred)\n",
        "f1 = f1_score(y_test, y_pred)\n",
        "roc_auc = roc_auc_score(y_test, y_proba)\n",
        "cm = confusion_matrix(y_test, y_pred)\n",
        "\n",
        "print(f'Accuracy: {acc:.4f}')\n",
        "print(f'Precision: {prec:.4f}')\n",
        "print(f'Recall: {rec:.4f}')\n",
        "print(f'F1-score: {f1:.4f}')\n",
        "print(f'ROC-AUC: {roc_auc:.4f}')\n",
        "print('\\nConfusion Matrix:')\n",
        "print(cm)"
      ]
    },
    {
      "cell_type": "markdown",
      "id": "b2b8c583",
      "metadata": {
        "id": "b2b8c583"
      },
      "source": [
        "## Visualizing Evaluation Metrics and Discussing Challenges\n",
        "\n",
        "Visualizations can help us better understand our model's performance and the challenges of toxic comment classification. We'll:\n",
        "- Plot the confusion matrix as a heatmap\n",
        "- Plot the ROC curve\n",
        "- Discuss issues such as class imbalance and misclassification\n",
        "\n",
        "Let's create these visualizations and discuss the results."
      ]
    },
    {
      "cell_type": "code",
      "execution_count": null,
      "id": "1268b953",
      "metadata": {
        "id": "1268b953",
        "outputId": "832972c2-cacc-41f6-de30-830d4e3e576d",
        "colab": {
          "base_uri": "https://localhost:8080/",
          "height": 907
        }
      },
      "outputs": [
        {
          "output_type": "display_data",
          "data": {
            "text/plain": [
              "<Figure size 500x400 with 2 Axes>"
            ],
            "image/png": "[encoded data removed]"
          },
          "metadata": {}
        },
        {
          "output_type": "display_data",
          "data": {
            "text/plain": [
              "<Figure size 600x400 with 1 Axes>"
            ],
            "image/png": "[encoded data removed]"
          },
          "metadata": {}
        },
        {
          "output_type": "stream",
          "name": "stdout",
          "text": [
            "\n",
            "**Discussion:**\n",
            "- The confusion matrix and ROC curve help us visualize model performance.\n",
            "- Class imbalance (more non-toxic than toxic comments) can make it harder to detect toxic comments.\n",
            "- Misclassifications may occur due to subtle or context-dependent toxicity.\n",
            "- Further improvements could include using more advanced models or data augmentation.\n"
          ]
        }
      ],
      "source": [
        "# Plot confusion matrix heatmap\n",
        "plt.figure(figsize=(5,4))\n",
        "sns.heatmap(cm, annot=True, fmt='d', cmap='Blues', xticklabels=['Non-Toxic', 'Toxic'], yticklabels=['Non-Toxic', 'Toxic'])\n",
        "plt.xlabel('Predicted')\n",
        "plt.ylabel('Actual')\n",
        "plt.title('Confusion Matrix')\n",
        "plt.show()\n",
        "\n",
        "# Plot ROC curve\n",
        "fpr, tpr, thresholds = roc_curve(y_test, y_proba)\n",
        "plt.figure(figsize=(6,4))\n",
        "plt.plot(fpr, tpr, label=f'ROC curve (AUC = {roc_auc:.2f})')\n",
        "plt.plot([0,1], [0,1], 'k--')\n",
        "plt.xlabel('False Positive Rate')\n",
        "plt.ylabel('True Positive Rate')\n",
        "plt.title('Receiver Operating Characteristic (ROC) Curve')\n",
        "plt.legend()\n",
        "plt.show()\n",
        "\n",
        "print('''\\n**Discussion:**\\n- The confusion matrix and ROC curve help us visualize model performance.\\n- Class imbalance (more non-toxic than toxic comments) can make it harder to detect toxic comments.\\n- Misclassifications may occur due to subtle or context-dependent toxicity.\\n- Further improvements could include using more advanced models or data augmentation.''')"
      ]
    },
    {
      "cell_type": "markdown",
      "id": "d80793a3",
      "metadata": {
        "id": "d80793a3"
      },
      "source": [
        "## Practical Applications of Toxic Comment Classification\n",
        "\n",
        "Toxic comment classification has significant real-world impact, including:\n",
        "- **Automated moderation:** Platforms can automatically flag or remove harmful content, reducing the burden on human moderators.\n",
        "- **Community safety:** Early detection of toxic comments helps create safer, more welcoming online spaces.\n",
        "- **User engagement:** Reducing toxicity encourages positive interactions and increases user retention.\n"
      ]
    }
  ],
  "metadata": {
    "kernelspec": {
      "display_name": "Python 3",
      "language": "python",
      "name": "python3"
    },
    "language_info": {
      "codemirror_mode": {
        "name": "ipython",
        "version": 3
      },
      "file_extension": ".py",
      "mimetype": "text/x-python",
      "name": "python",
      "nbconvert_exporter": "python",
      "pygments_lexer": "ipython3",
      "version": "3.13.2"
    },
    "colab": {
      "provenance": [],
      "include_colab_link": true
    }
  },
  "nbformat": 4,
  "nbformat_minor": 5
}